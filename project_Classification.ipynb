{
  "cells": [
    {
      "cell_type": "markdown",
      "metadata": {
        "id": "view-in-github",
        "colab_type": "text"
      },
      "source": [
        "<a href=\"https://colab.research.google.com/github/saiyashwanth09/Analysis-on-customer-churn-prediction-using-ML/blob/main/project_Classification.ipynb\" target=\"_parent\"><img src=\"https://colab.research.google.com/assets/colab-badge.svg\" alt=\"Open In Colab\"/></a>"
      ]
    },
    {
      "cell_type": "markdown",
      "source": [
        "# **Project- PPT**\n",
        "https://www.canva.com/design/DAGwVj2Qwlc/05cik3UjZUvai_uzqp6giw/edit?utm_content=DAGwVj2Qwlc&utm_campaign=designshare&utm_medium=link2&utm_source=sharebutton"
      ],
      "metadata": {
        "id": "EwOsWVSb3jTn"
      }
    },
    {
      "cell_type": "code",
      "execution_count": null,
      "metadata": {
        "id": "1-vWRYG3j7pK"
      },
      "outputs": [],
      "source": [
        "from google.colab import drive\n",
        "drive.mount('/content/drive')"
      ]
    },
    {
      "cell_type": "markdown",
      "metadata": {
        "id": "QDdykaH8X4cl"
      },
      "source": [
        "## **Preprocessing**"
      ]
    },
    {
      "cell_type": "code",
      "execution_count": null,
      "metadata": {
        "id": "f3bQmSjtnhh5"
      },
      "outputs": [],
      "source": [
        "import numpy as np\n",
        "import pandas as pd"
      ]
    },
    {
      "cell_type": "code",
      "execution_count": null,
      "metadata": {
        "colab": {
          "base_uri": "https://localhost:8080/",
          "height": 458
        },
        "id": "h8wtWmKQnlx5",
        "outputId": "95510cc9-ba7e-4deb-dc45-d2be2e8f7e60"
      },
      "outputs": [
        {
          "output_type": "execute_result",
          "data": {
            "text/plain": [
              "      Call  Failure  Complains  Subscription  Length  Charge  Amount  \\\n",
              "0                 8          0                    38               0   \n",
              "1                 0          0                    39               0   \n",
              "2                10          0                    37               0   \n",
              "3                10          0                    38               0   \n",
              "4                 3          0                    38               0   \n",
              "...             ...        ...                   ...             ...   \n",
              "3145             21          0                    19               2   \n",
              "3146             17          0                    17               1   \n",
              "3147             13          0                    18               4   \n",
              "3148              7          0                    11               2   \n",
              "3149              8          1                    11               2   \n",
              "\n",
              "      Seconds of Use  Frequency of use  Frequency of SMS  \\\n",
              "0               4370                71                 5   \n",
              "1                318                 5                 7   \n",
              "2               2453                60               359   \n",
              "3               4198                66                 1   \n",
              "4               2393                58                 2   \n",
              "...              ...               ...               ...   \n",
              "3145            6697               147                92   \n",
              "3146            9237               177                80   \n",
              "3147            3157                51                38   \n",
              "3148            4695                46               222   \n",
              "3149            1792                25                 7   \n",
              "\n",
              "      Distinct Called Numbers  Age Group  Tariff Plan  Status  Age  \\\n",
              "0                          17          3            1       1   30   \n",
              "1                           4          2            1       2   25   \n",
              "2                          24          3            1       1   30   \n",
              "3                          35          1            1       1   15   \n",
              "4                          33          1            1       1   15   \n",
              "...                       ...        ...          ...     ...  ...   \n",
              "3145                       44          2            2       1   25   \n",
              "3146                       42          5            1       1   55   \n",
              "3147                       21          3            1       1   30   \n",
              "3148                       12          3            1       1   30   \n",
              "3149                        9          3            1       1   30   \n",
              "\n",
              "      Customer Value  Churn  \n",
              "0            197.640      0  \n",
              "1             46.035      0  \n",
              "2           1536.520      0  \n",
              "3            240.020      0  \n",
              "4            145.805      0  \n",
              "...              ...    ...  \n",
              "3145         721.980      0  \n",
              "3146         261.210      0  \n",
              "3147         280.320      0  \n",
              "3148        1077.640      0  \n",
              "3149         100.680      1  \n",
              "\n",
              "[3150 rows x 14 columns]"
            ],
            "text/html": [
              "\n",
              "  <div id=\"df-5daaad82-a36f-4589-9fe0-df0d6bd30bbd\" class=\"colab-df-container\">\n",
              "    <div>\n",
              "<style scoped>\n",
              "    .dataframe tbody tr th:only-of-type {\n",
              "        vertical-align: middle;\n",
              "    }\n",
              "\n",
              "    .dataframe tbody tr th {\n",
              "        vertical-align: top;\n",
              "    }\n",
              "\n",
              "    .dataframe thead th {\n",
              "        text-align: right;\n",
              "    }\n",
              "</style>\n",
              "<table border=\"1\" class=\"dataframe\">\n",
              "  <thead>\n",
              "    <tr style=\"text-align: right;\">\n",
              "      <th></th>\n",
              "      <th>Call  Failure</th>\n",
              "      <th>Complains</th>\n",
              "      <th>Subscription  Length</th>\n",
              "      <th>Charge  Amount</th>\n",
              "      <th>Seconds of Use</th>\n",
              "      <th>Frequency of use</th>\n",
              "      <th>Frequency of SMS</th>\n",
              "      <th>Distinct Called Numbers</th>\n",
              "      <th>Age Group</th>\n",
              "      <th>Tariff Plan</th>\n",
              "      <th>Status</th>\n",
              "      <th>Age</th>\n",
              "      <th>Customer Value</th>\n",
              "      <th>Churn</th>\n",
              "    </tr>\n",
              "  </thead>\n",
              "  <tbody>\n",
              "    <tr>\n",
              "      <th>0</th>\n",
              "      <td>8</td>\n",
              "      <td>0</td>\n",
              "      <td>38</td>\n",
              "      <td>0</td>\n",
              "      <td>4370</td>\n",
              "      <td>71</td>\n",
              "      <td>5</td>\n",
              "      <td>17</td>\n",
              "      <td>3</td>\n",
              "      <td>1</td>\n",
              "      <td>1</td>\n",
              "      <td>30</td>\n",
              "      <td>197.640</td>\n",
              "      <td>0</td>\n",
              "    </tr>\n",
              "    <tr>\n",
              "      <th>1</th>\n",
              "      <td>0</td>\n",
              "      <td>0</td>\n",
              "      <td>39</td>\n",
              "      <td>0</td>\n",
              "      <td>318</td>\n",
              "      <td>5</td>\n",
              "      <td>7</td>\n",
              "      <td>4</td>\n",
              "      <td>2</td>\n",
              "      <td>1</td>\n",
              "      <td>2</td>\n",
              "      <td>25</td>\n",
              "      <td>46.035</td>\n",
              "      <td>0</td>\n",
              "    </tr>\n",
              "    <tr>\n",
              "      <th>2</th>\n",
              "      <td>10</td>\n",
              "      <td>0</td>\n",
              "      <td>37</td>\n",
              "      <td>0</td>\n",
              "      <td>2453</td>\n",
              "      <td>60</td>\n",
              "      <td>359</td>\n",
              "      <td>24</td>\n",
              "      <td>3</td>\n",
              "      <td>1</td>\n",
              "      <td>1</td>\n",
              "      <td>30</td>\n",
              "      <td>1536.520</td>\n",
              "      <td>0</td>\n",
              "    </tr>\n",
              "    <tr>\n",
              "      <th>3</th>\n",
              "      <td>10</td>\n",
              "      <td>0</td>\n",
              "      <td>38</td>\n",
              "      <td>0</td>\n",
              "      <td>4198</td>\n",
              "      <td>66</td>\n",
              "      <td>1</td>\n",
              "      <td>35</td>\n",
              "      <td>1</td>\n",
              "      <td>1</td>\n",
              "      <td>1</td>\n",
              "      <td>15</td>\n",
              "      <td>240.020</td>\n",
              "      <td>0</td>\n",
              "    </tr>\n",
              "    <tr>\n",
              "      <th>4</th>\n",
              "      <td>3</td>\n",
              "      <td>0</td>\n",
              "      <td>38</td>\n",
              "      <td>0</td>\n",
              "      <td>2393</td>\n",
              "      <td>58</td>\n",
              "      <td>2</td>\n",
              "      <td>33</td>\n",
              "      <td>1</td>\n",
              "      <td>1</td>\n",
              "      <td>1</td>\n",
              "      <td>15</td>\n",
              "      <td>145.805</td>\n",
              "      <td>0</td>\n",
              "    </tr>\n",
              "    <tr>\n",
              "      <th>...</th>\n",
              "      <td>...</td>\n",
              "      <td>...</td>\n",
              "      <td>...</td>\n",
              "      <td>...</td>\n",
              "      <td>...</td>\n",
              "      <td>...</td>\n",
              "      <td>...</td>\n",
              "      <td>...</td>\n",
              "      <td>...</td>\n",
              "      <td>...</td>\n",
              "      <td>...</td>\n",
              "      <td>...</td>\n",
              "      <td>...</td>\n",
              "      <td>...</td>\n",
              "    </tr>\n",
              "    <tr>\n",
              "      <th>3145</th>\n",
              "      <td>21</td>\n",
              "      <td>0</td>\n",
              "      <td>19</td>\n",
              "      <td>2</td>\n",
              "      <td>6697</td>\n",
              "      <td>147</td>\n",
              "      <td>92</td>\n",
              "      <td>44</td>\n",
              "      <td>2</td>\n",
              "      <td>2</td>\n",
              "      <td>1</td>\n",
              "      <td>25</td>\n",
              "      <td>721.980</td>\n",
              "      <td>0</td>\n",
              "    </tr>\n",
              "    <tr>\n",
              "      <th>3146</th>\n",
              "      <td>17</td>\n",
              "      <td>0</td>\n",
              "      <td>17</td>\n",
              "      <td>1</td>\n",
              "      <td>9237</td>\n",
              "      <td>177</td>\n",
              "      <td>80</td>\n",
              "      <td>42</td>\n",
              "      <td>5</td>\n",
              "      <td>1</td>\n",
              "      <td>1</td>\n",
              "      <td>55</td>\n",
              "      <td>261.210</td>\n",
              "      <td>0</td>\n",
              "    </tr>\n",
              "    <tr>\n",
              "      <th>3147</th>\n",
              "      <td>13</td>\n",
              "      <td>0</td>\n",
              "      <td>18</td>\n",
              "      <td>4</td>\n",
              "      <td>3157</td>\n",
              "      <td>51</td>\n",
              "      <td>38</td>\n",
              "      <td>21</td>\n",
              "      <td>3</td>\n",
              "      <td>1</td>\n",
              "      <td>1</td>\n",
              "      <td>30</td>\n",
              "      <td>280.320</td>\n",
              "      <td>0</td>\n",
              "    </tr>\n",
              "    <tr>\n",
              "      <th>3148</th>\n",
              "      <td>7</td>\n",
              "      <td>0</td>\n",
              "      <td>11</td>\n",
              "      <td>2</td>\n",
              "      <td>4695</td>\n",
              "      <td>46</td>\n",
              "      <td>222</td>\n",
              "      <td>12</td>\n",
              "      <td>3</td>\n",
              "      <td>1</td>\n",
              "      <td>1</td>\n",
              "      <td>30</td>\n",
              "      <td>1077.640</td>\n",
              "      <td>0</td>\n",
              "    </tr>\n",
              "    <tr>\n",
              "      <th>3149</th>\n",
              "      <td>8</td>\n",
              "      <td>1</td>\n",
              "      <td>11</td>\n",
              "      <td>2</td>\n",
              "      <td>1792</td>\n",
              "      <td>25</td>\n",
              "      <td>7</td>\n",
              "      <td>9</td>\n",
              "      <td>3</td>\n",
              "      <td>1</td>\n",
              "      <td>1</td>\n",
              "      <td>30</td>\n",
              "      <td>100.680</td>\n",
              "      <td>1</td>\n",
              "    </tr>\n",
              "  </tbody>\n",
              "</table>\n",
              "<p>3150 rows × 14 columns</p>\n",
              "</div>\n",
              "    <div class=\"colab-df-buttons\">\n",
              "\n",
              "  <div class=\"colab-df-container\">\n",
              "    <button class=\"colab-df-convert\" onclick=\"convertToInteractive('df-5daaad82-a36f-4589-9fe0-df0d6bd30bbd')\"\n",
              "            title=\"Convert this dataframe to an interactive table.\"\n",
              "            style=\"display:none;\">\n",
              "\n",
              "  <svg xmlns=\"http://www.w3.org/2000/svg\" height=\"24px\" viewBox=\"0 -960 960 960\">\n",
              "    <path d=\"M120-120v-720h720v720H120Zm60-500h600v-160H180v160Zm220 220h160v-160H400v160Zm0 220h160v-160H400v160ZM180-400h160v-160H180v160Zm440 0h160v-160H620v160ZM180-180h160v-160H180v160Zm440 0h160v-160H620v160Z\"/>\n",
              "  </svg>\n",
              "    </button>\n",
              "\n",
              "  <style>\n",
              "    .colab-df-container {\n",
              "      display:flex;\n",
              "      gap: 12px;\n",
              "    }\n",
              "\n",
              "    .colab-df-convert {\n",
              "      background-color: #E8F0FE;\n",
              "      border: none;\n",
              "      border-radius: 50%;\n",
              "      cursor: pointer;\n",
              "      display: none;\n",
              "      fill: #1967D2;\n",
              "      height: 32px;\n",
              "      padding: 0 0 0 0;\n",
              "      width: 32px;\n",
              "    }\n",
              "\n",
              "    .colab-df-convert:hover {\n",
              "      background-color: #E2EBFA;\n",
              "      box-shadow: 0px 1px 2px rgba(60, 64, 67, 0.3), 0px 1px 3px 1px rgba(60, 64, 67, 0.15);\n",
              "      fill: #174EA6;\n",
              "    }\n",
              "\n",
              "    .colab-df-buttons div {\n",
              "      margin-bottom: 4px;\n",
              "    }\n",
              "\n",
              "    [theme=dark] .colab-df-convert {\n",
              "      background-color: #3B4455;\n",
              "      fill: #D2E3FC;\n",
              "    }\n",
              "\n",
              "    [theme=dark] .colab-df-convert:hover {\n",
              "      background-color: #434B5C;\n",
              "      box-shadow: 0px 1px 3px 1px rgba(0, 0, 0, 0.15);\n",
              "      filter: drop-shadow(0px 1px 2px rgba(0, 0, 0, 0.3));\n",
              "      fill: #FFFFFF;\n",
              "    }\n",
              "  </style>\n",
              "\n",
              "    <script>\n",
              "      const buttonEl =\n",
              "        document.querySelector('#df-5daaad82-a36f-4589-9fe0-df0d6bd30bbd button.colab-df-convert');\n",
              "      buttonEl.style.display =\n",
              "        google.colab.kernel.accessAllowed ? 'block' : 'none';\n",
              "\n",
              "      async function convertToInteractive(key) {\n",
              "        const element = document.querySelector('#df-5daaad82-a36f-4589-9fe0-df0d6bd30bbd');\n",
              "        const dataTable =\n",
              "          await google.colab.kernel.invokeFunction('convertToInteractive',\n",
              "                                                    [key], {});\n",
              "        if (!dataTable) return;\n",
              "\n",
              "        const docLinkHtml = 'Like what you see? Visit the ' +\n",
              "          '<a target=\"_blank\" href=https://colab.research.google.com/notebooks/data_table.ipynb>data table notebook</a>'\n",
              "          + ' to learn more about interactive tables.';\n",
              "        element.innerHTML = '';\n",
              "        dataTable['output_type'] = 'display_data';\n",
              "        await google.colab.output.renderOutput(dataTable, element);\n",
              "        const docLink = document.createElement('div');\n",
              "        docLink.innerHTML = docLinkHtml;\n",
              "        element.appendChild(docLink);\n",
              "      }\n",
              "    </script>\n",
              "  </div>\n",
              "\n",
              "\n",
              "    <div id=\"df-0e7ba0d9-0113-4c99-9367-c279d01a71ef\">\n",
              "      <button class=\"colab-df-quickchart\" onclick=\"quickchart('df-0e7ba0d9-0113-4c99-9367-c279d01a71ef')\"\n",
              "                title=\"Suggest charts\"\n",
              "                style=\"display:none;\">\n",
              "\n",
              "<svg xmlns=\"http://www.w3.org/2000/svg\" height=\"24px\"viewBox=\"0 0 24 24\"\n",
              "     width=\"24px\">\n",
              "    <g>\n",
              "        <path d=\"M19 3H5c-1.1 0-2 .9-2 2v14c0 1.1.9 2 2 2h14c1.1 0 2-.9 2-2V5c0-1.1-.9-2-2-2zM9 17H7v-7h2v7zm4 0h-2V7h2v10zm4 0h-2v-4h2v4z\"/>\n",
              "    </g>\n",
              "</svg>\n",
              "      </button>\n",
              "\n",
              "<style>\n",
              "  .colab-df-quickchart {\n",
              "      --bg-color: #E8F0FE;\n",
              "      --fill-color: #1967D2;\n",
              "      --hover-bg-color: #E2EBFA;\n",
              "      --hover-fill-color: #174EA6;\n",
              "      --disabled-fill-color: #AAA;\n",
              "      --disabled-bg-color: #DDD;\n",
              "  }\n",
              "\n",
              "  [theme=dark] .colab-df-quickchart {\n",
              "      --bg-color: #3B4455;\n",
              "      --fill-color: #D2E3FC;\n",
              "      --hover-bg-color: #434B5C;\n",
              "      --hover-fill-color: #FFFFFF;\n",
              "      --disabled-bg-color: #3B4455;\n",
              "      --disabled-fill-color: #666;\n",
              "  }\n",
              "\n",
              "  .colab-df-quickchart {\n",
              "    background-color: var(--bg-color);\n",
              "    border: none;\n",
              "    border-radius: 50%;\n",
              "    cursor: pointer;\n",
              "    display: none;\n",
              "    fill: var(--fill-color);\n",
              "    height: 32px;\n",
              "    padding: 0;\n",
              "    width: 32px;\n",
              "  }\n",
              "\n",
              "  .colab-df-quickchart:hover {\n",
              "    background-color: var(--hover-bg-color);\n",
              "    box-shadow: 0 1px 2px rgba(60, 64, 67, 0.3), 0 1px 3px 1px rgba(60, 64, 67, 0.15);\n",
              "    fill: var(--button-hover-fill-color);\n",
              "  }\n",
              "\n",
              "  .colab-df-quickchart-complete:disabled,\n",
              "  .colab-df-quickchart-complete:disabled:hover {\n",
              "    background-color: var(--disabled-bg-color);\n",
              "    fill: var(--disabled-fill-color);\n",
              "    box-shadow: none;\n",
              "  }\n",
              "\n",
              "  .colab-df-spinner {\n",
              "    border: 2px solid var(--fill-color);\n",
              "    border-color: transparent;\n",
              "    border-bottom-color: var(--fill-color);\n",
              "    animation:\n",
              "      spin 1s steps(1) infinite;\n",
              "  }\n",
              "\n",
              "  @keyframes spin {\n",
              "    0% {\n",
              "      border-color: transparent;\n",
              "      border-bottom-color: var(--fill-color);\n",
              "      border-left-color: var(--fill-color);\n",
              "    }\n",
              "    20% {\n",
              "      border-color: transparent;\n",
              "      border-left-color: var(--fill-color);\n",
              "      border-top-color: var(--fill-color);\n",
              "    }\n",
              "    30% {\n",
              "      border-color: transparent;\n",
              "      border-left-color: var(--fill-color);\n",
              "      border-top-color: var(--fill-color);\n",
              "      border-right-color: var(--fill-color);\n",
              "    }\n",
              "    40% {\n",
              "      border-color: transparent;\n",
              "      border-right-color: var(--fill-color);\n",
              "      border-top-color: var(--fill-color);\n",
              "    }\n",
              "    60% {\n",
              "      border-color: transparent;\n",
              "      border-right-color: var(--fill-color);\n",
              "    }\n",
              "    80% {\n",
              "      border-color: transparent;\n",
              "      border-right-color: var(--fill-color);\n",
              "      border-bottom-color: var(--fill-color);\n",
              "    }\n",
              "    90% {\n",
              "      border-color: transparent;\n",
              "      border-bottom-color: var(--fill-color);\n",
              "    }\n",
              "  }\n",
              "</style>\n",
              "\n",
              "      <script>\n",
              "        async function quickchart(key) {\n",
              "          const quickchartButtonEl =\n",
              "            document.querySelector('#' + key + ' button');\n",
              "          quickchartButtonEl.disabled = true;  // To prevent multiple clicks.\n",
              "          quickchartButtonEl.classList.add('colab-df-spinner');\n",
              "          try {\n",
              "            const charts = await google.colab.kernel.invokeFunction(\n",
              "                'suggestCharts', [key], {});\n",
              "          } catch (error) {\n",
              "            console.error('Error during call to suggestCharts:', error);\n",
              "          }\n",
              "          quickchartButtonEl.classList.remove('colab-df-spinner');\n",
              "          quickchartButtonEl.classList.add('colab-df-quickchart-complete');\n",
              "        }\n",
              "        (() => {\n",
              "          let quickchartButtonEl =\n",
              "            document.querySelector('#df-0e7ba0d9-0113-4c99-9367-c279d01a71ef button');\n",
              "          quickchartButtonEl.style.display =\n",
              "            google.colab.kernel.accessAllowed ? 'block' : 'none';\n",
              "        })();\n",
              "      </script>\n",
              "    </div>\n",
              "\n",
              "  <div id=\"id_1793b29b-e1bf-448f-86d3-01079d486515\">\n",
              "    <style>\n",
              "      .colab-df-generate {\n",
              "        background-color: #E8F0FE;\n",
              "        border: none;\n",
              "        border-radius: 50%;\n",
              "        cursor: pointer;\n",
              "        display: none;\n",
              "        fill: #1967D2;\n",
              "        height: 32px;\n",
              "        padding: 0 0 0 0;\n",
              "        width: 32px;\n",
              "      }\n",
              "\n",
              "      .colab-df-generate:hover {\n",
              "        background-color: #E2EBFA;\n",
              "        box-shadow: 0px 1px 2px rgba(60, 64, 67, 0.3), 0px 1px 3px 1px rgba(60, 64, 67, 0.15);\n",
              "        fill: #174EA6;\n",
              "      }\n",
              "\n",
              "      [theme=dark] .colab-df-generate {\n",
              "        background-color: #3B4455;\n",
              "        fill: #D2E3FC;\n",
              "      }\n",
              "\n",
              "      [theme=dark] .colab-df-generate:hover {\n",
              "        background-color: #434B5C;\n",
              "        box-shadow: 0px 1px 3px 1px rgba(0, 0, 0, 0.15);\n",
              "        filter: drop-shadow(0px 1px 2px rgba(0, 0, 0, 0.3));\n",
              "        fill: #FFFFFF;\n",
              "      }\n",
              "    </style>\n",
              "    <button class=\"colab-df-generate\" onclick=\"generateWithVariable('data')\"\n",
              "            title=\"Generate code using this dataframe.\"\n",
              "            style=\"display:none;\">\n",
              "\n",
              "  <svg xmlns=\"http://www.w3.org/2000/svg\" height=\"24px\"viewBox=\"0 0 24 24\"\n",
              "       width=\"24px\">\n",
              "    <path d=\"M7,19H8.4L18.45,9,17,7.55,7,17.6ZM5,21V16.75L18.45,3.32a2,2,0,0,1,2.83,0l1.4,1.43a1.91,1.91,0,0,1,.58,1.4,1.91,1.91,0,0,1-.58,1.4L9.25,21ZM18.45,9,17,7.55Zm-12,3A5.31,5.31,0,0,0,4.9,8.1,5.31,5.31,0,0,0,1,6.5,5.31,5.31,0,0,0,4.9,4.9,5.31,5.31,0,0,0,6.5,1,5.31,5.31,0,0,0,8.1,4.9,5.31,5.31,0,0,0,12,6.5,5.46,5.46,0,0,0,6.5,12Z\"/>\n",
              "  </svg>\n",
              "    </button>\n",
              "    <script>\n",
              "      (() => {\n",
              "      const buttonEl =\n",
              "        document.querySelector('#id_1793b29b-e1bf-448f-86d3-01079d486515 button.colab-df-generate');\n",
              "      buttonEl.style.display =\n",
              "        google.colab.kernel.accessAllowed ? 'block' : 'none';\n",
              "\n",
              "      buttonEl.onclick = () => {\n",
              "        google.colab.notebook.generateWithVariable('data');\n",
              "      }\n",
              "      })();\n",
              "    </script>\n",
              "  </div>\n",
              "\n",
              "    </div>\n",
              "  </div>\n"
            ],
            "application/vnd.google.colaboratory.intrinsic+json": {
              "type": "dataframe",
              "variable_name": "data",
              "summary": "{\n  \"name\": \"data\",\n  \"rows\": 3150,\n  \"fields\": [\n    {\n      \"column\": \"Call  Failure\",\n      \"properties\": {\n        \"dtype\": \"number\",\n        \"std\": 7,\n        \"min\": 0,\n        \"max\": 36,\n        \"num_unique_values\": 37,\n        \"samples\": [\n          14,\n          21,\n          11\n        ],\n        \"semantic_type\": \"\",\n        \"description\": \"\"\n      }\n    },\n    {\n      \"column\": \"Complains\",\n      \"properties\": {\n        \"dtype\": \"number\",\n        \"std\": 0,\n        \"min\": 0,\n        \"max\": 1,\n        \"num_unique_values\": 2,\n        \"samples\": [\n          1,\n          0\n        ],\n        \"semantic_type\": \"\",\n        \"description\": \"\"\n      }\n    },\n    {\n      \"column\": \"Subscription  Length\",\n      \"properties\": {\n        \"dtype\": \"number\",\n        \"std\": 8,\n        \"min\": 3,\n        \"max\": 47,\n        \"num_unique_values\": 45,\n        \"samples\": [\n          3,\n          23\n        ],\n        \"semantic_type\": \"\",\n        \"description\": \"\"\n      }\n    },\n    {\n      \"column\": \"Charge  Amount\",\n      \"properties\": {\n        \"dtype\": \"number\",\n        \"std\": 1,\n        \"min\": 0,\n        \"max\": 10,\n        \"num_unique_values\": 11,\n        \"samples\": [\n          4,\n          0\n        ],\n        \"semantic_type\": \"\",\n        \"description\": \"\"\n      }\n    },\n    {\n      \"column\": \"Seconds of Use\",\n      \"properties\": {\n        \"dtype\": \"number\",\n        \"std\": 4197,\n        \"min\": 0,\n        \"max\": 17090,\n        \"num_unique_values\": 1756,\n        \"samples\": [\n          2633,\n          5115\n        ],\n        \"semantic_type\": \"\",\n        \"description\": \"\"\n      }\n    },\n    {\n      \"column\": \"Frequency of use\",\n      \"properties\": {\n        \"dtype\": \"number\",\n        \"std\": 57,\n        \"min\": 0,\n        \"max\": 255,\n        \"num_unique_values\": 242,\n        \"samples\": [\n          22,\n          39\n        ],\n        \"semantic_type\": \"\",\n        \"description\": \"\"\n      }\n    },\n    {\n      \"column\": \"Frequency of SMS\",\n      \"properties\": {\n        \"dtype\": \"number\",\n        \"std\": 112,\n        \"min\": 0,\n        \"max\": 522,\n        \"num_unique_values\": 405,\n        \"samples\": [\n          145,\n          195\n        ],\n        \"semantic_type\": \"\",\n        \"description\": \"\"\n      }\n    },\n    {\n      \"column\": \"Distinct Called Numbers\",\n      \"properties\": {\n        \"dtype\": \"number\",\n        \"std\": 17,\n        \"min\": 0,\n        \"max\": 97,\n        \"num_unique_values\": 92,\n        \"samples\": [\n          49,\n          31\n        ],\n        \"semantic_type\": \"\",\n        \"description\": \"\"\n      }\n    },\n    {\n      \"column\": \"Age Group\",\n      \"properties\": {\n        \"dtype\": \"number\",\n        \"std\": 0,\n        \"min\": 1,\n        \"max\": 5,\n        \"num_unique_values\": 5,\n        \"samples\": [\n          2,\n          5\n        ],\n        \"semantic_type\": \"\",\n        \"description\": \"\"\n      }\n    },\n    {\n      \"column\": \"Tariff Plan\",\n      \"properties\": {\n        \"dtype\": \"number\",\n        \"std\": 0,\n        \"min\": 1,\n        \"max\": 2,\n        \"num_unique_values\": 2,\n        \"samples\": [\n          2,\n          1\n        ],\n        \"semantic_type\": \"\",\n        \"description\": \"\"\n      }\n    },\n    {\n      \"column\": \"Status\",\n      \"properties\": {\n        \"dtype\": \"number\",\n        \"std\": 0,\n        \"min\": 1,\n        \"max\": 2,\n        \"num_unique_values\": 2,\n        \"samples\": [\n          2,\n          1\n        ],\n        \"semantic_type\": \"\",\n        \"description\": \"\"\n      }\n    },\n    {\n      \"column\": \"Age\",\n      \"properties\": {\n        \"dtype\": \"number\",\n        \"std\": 8,\n        \"min\": 15,\n        \"max\": 55,\n        \"num_unique_values\": 5,\n        \"samples\": [\n          25,\n          55\n        ],\n        \"semantic_type\": \"\",\n        \"description\": \"\"\n      }\n    },\n    {\n      \"column\": \"Customer Value\",\n      \"properties\": {\n        \"dtype\": \"number\",\n        \"std\": 517.0154327987642,\n        \"min\": 0.0,\n        \"max\": 2165.28,\n        \"num_unique_values\": 2654,\n        \"samples\": [\n          451.665,\n          111.96\n        ],\n        \"semantic_type\": \"\",\n        \"description\": \"\"\n      }\n    },\n    {\n      \"column\": \"Churn\",\n      \"properties\": {\n        \"dtype\": \"number\",\n        \"std\": 0,\n        \"min\": 0,\n        \"max\": 1,\n        \"num_unique_values\": 2,\n        \"samples\": [\n          1,\n          0\n        ],\n        \"semantic_type\": \"\",\n        \"description\": \"\"\n      }\n    }\n  ]\n}"
            }
          },
          "metadata": {},
          "execution_count": 7
        }
      ],
      "source": [
        "data = pd.read_csv('/content/Customer Churn.csv')\n",
        "data"
      ]
    },
    {
      "cell_type": "code",
      "execution_count": null,
      "metadata": {
        "id": "gvKj-r9coBOC"
      },
      "outputs": [],
      "source": [
        "data.shape"
      ]
    },
    {
      "cell_type": "code",
      "execution_count": null,
      "metadata": {
        "id": "JnmDXLdNYP1W"
      },
      "outputs": [],
      "source": [
        "data.duplicated().sum()"
      ]
    },
    {
      "cell_type": "code",
      "execution_count": null,
      "metadata": {
        "id": "Tl0KsRZEZ-ll"
      },
      "outputs": [],
      "source": [
        "data.drop_duplicates(inplace=True)"
      ]
    },
    {
      "cell_type": "code",
      "execution_count": null,
      "metadata": {
        "id": "HNQxgTjiaGgv"
      },
      "outputs": [],
      "source": [
        "data.shape"
      ]
    },
    {
      "cell_type": "code",
      "execution_count": null,
      "metadata": {
        "id": "gA51VlR0oH5w"
      },
      "outputs": [],
      "source": [
        "data.info()"
      ]
    },
    {
      "cell_type": "code",
      "execution_count": null,
      "metadata": {
        "id": "56dArwSuqmAt"
      },
      "outputs": [],
      "source": [
        "data.info()"
      ]
    },
    {
      "cell_type": "code",
      "execution_count": null,
      "metadata": {
        "id": "SFKXMfsRqtGr"
      },
      "outputs": [],
      "source": [
        "data.isnull().sum()"
      ]
    },
    {
      "cell_type": "markdown",
      "metadata": {
        "id": "rHv4uiNVq6h_"
      },
      "source": [
        "data.head(3)"
      ]
    },
    {
      "cell_type": "code",
      "execution_count": null,
      "metadata": {
        "id": "OSt0MHaErSK0"
      },
      "outputs": [],
      "source": [
        "%matplotlib inline\n",
        "import matplotlib.pyplot as plt\n",
        "import seaborn as sns"
      ]
    },
    {
      "cell_type": "code",
      "execution_count": null,
      "metadata": {
        "id": "mzsIPThlrlay"
      },
      "outputs": [],
      "source": [
        "sns.boxplot(x='Customer Value', data=data)"
      ]
    },
    {
      "cell_type": "code",
      "execution_count": null,
      "metadata": {
        "id": "ZlvMCA4xrqcz"
      },
      "outputs": [],
      "source": [
        "q3 = data['Customer Value'].quantile(.75)\n",
        "q1 = data['Customer Value'].quantile(.25)\n",
        "iqr = q3-q1\n",
        "iqr"
      ]
    },
    {
      "cell_type": "code",
      "execution_count": null,
      "metadata": {
        "id": "aChI0AYPrxWs"
      },
      "outputs": [],
      "source": [
        "upperrange = q3+1.5*iqr\n",
        "bottomrange = q1-1.5*iqr\n",
        "data = data[(data['Customer Value']>bottomrange) & (data['Customer Value']<upperrange)]\n",
        "sns.boxplot(data=data,x='Customer Value')"
      ]
    },
    {
      "cell_type": "code",
      "execution_count": null,
      "metadata": {
        "id": "dcCTZdP6sLKy"
      },
      "outputs": [],
      "source": [
        "sns.boxplot(x='Distinct Called Numbers', data=data)"
      ]
    },
    {
      "cell_type": "code",
      "execution_count": null,
      "metadata": {
        "id": "oXXsM_S6szm2"
      },
      "outputs": [],
      "source": [
        "q3 = data['Distinct Called Numbers'].quantile(.75)\n",
        "q1 = data['Distinct Called Numbers'].quantile(.25)\n",
        "iqr = q3-q1\n",
        "iqr"
      ]
    },
    {
      "cell_type": "code",
      "execution_count": null,
      "metadata": {
        "id": "dY1YqXTptEri"
      },
      "outputs": [],
      "source": [
        "upperrange = q3+1.5*iqr\n",
        "bottomrange = q1-1.5*iqr\n",
        "data = data[(data['Distinct Called Numbers']>bottomrange) & (data['Distinct Called Numbers']<upperrange)]\n",
        "sns.boxplot(data=data,x='Distinct Called Numbers')"
      ]
    },
    {
      "cell_type": "code",
      "execution_count": null,
      "metadata": {
        "id": "1uZ0E34ktQAG"
      },
      "outputs": [],
      "source": [
        "data"
      ]
    },
    {
      "cell_type": "code",
      "execution_count": null,
      "metadata": {
        "id": "QCWiTnewX84s"
      },
      "outputs": [],
      "source": [
        "data['Tariff Plan'].unique()"
      ]
    },
    {
      "cell_type": "code",
      "execution_count": null,
      "metadata": {
        "id": "7o-HhNyZYIBR"
      },
      "outputs": [],
      "source": [
        "data.describe()"
      ]
    },
    {
      "cell_type": "markdown",
      "metadata": {
        "id": "orX3tlpJZV8b"
      },
      "source": [
        "# EDA(Expolatary Data Analysis)"
      ]
    },
    {
      "cell_type": "code",
      "execution_count": null,
      "metadata": {
        "id": "Ys-n9h_cYqWh"
      },
      "outputs": [],
      "source": [
        "plt.figure(figsize=(10,8))\n",
        "sns.heatmap(data.corr(), annot=True, cmap='coolwarm')\n",
        "plt.show()"
      ]
    },
    {
      "cell_type": "code",
      "execution_count": null,
      "metadata": {
        "id": "RgFSRdQ2ZLkB"
      },
      "outputs": [],
      "source": [
        "sns.countplot(x='Churn', data=data)\n",
        "plt.show()"
      ]
    },
    {
      "cell_type": "code",
      "execution_count": null,
      "metadata": {
        "id": "6scoOBOvZSU8"
      },
      "outputs": [],
      "source": [
        "data.hist(bins=30, figsize=(15,10))\n",
        "plt.tight_layout()\n",
        "plt.show()"
      ]
    },
    {
      "cell_type": "code",
      "execution_count": null,
      "metadata": {
        "id": "Q7vgTlMMeC8L"
      },
      "outputs": [],
      "source": [
        "plt.figure(figsize=(6,4))\n",
        "num_cols = data.select_dtypes(include=np.number).columns.tolist()\n",
        "sns.boxplot(data=data[num_cols])\n",
        "plt.xticks(rotation=45)\n",
        "plt.title('Boxplot of Numerical Features')\n",
        "plt.show()"
      ]
    },
    {
      "cell_type": "code",
      "execution_count": null,
      "metadata": {
        "id": "WjhGpECrend3"
      },
      "outputs": [],
      "source": [
        "for col in ['Customer Value', 'Seconds of Use', 'Charge  Amount']:\n",
        "    plt.figure(figsize=(6,4))\n",
        "    sns.boxplot(x='Churn', y=col, data=data)\n",
        "    plt.title(f'Churn vs {col}')\n",
        "    plt.show()"
      ]
    },
    {
      "cell_type": "code",
      "execution_count": null,
      "metadata": {
        "id": "oQ7980Bvf2yy"
      },
      "outputs": [],
      "source": [
        "complain_churn = data[data['Complains'] > 0]['Churn'].value_counts()\n",
        "plt.figure(figsize=(5,4))\n",
        "plt.pie(complain_churn, labels=['Not Churned', 'Churned'], autopct='%1.1f%%', startangle=90, colors=['lightblue', 'lightcoral'])\n",
        "plt.title('Churn Among Complaining Customers')\n",
        "plt.show()"
      ]
    },
    {
      "cell_type": "code",
      "execution_count": null,
      "metadata": {
        "id": "xKpjKHWfe1J5"
      },
      "outputs": [],
      "source": [
        "sns.pairplot(data, vars=['Customer Value', 'Seconds of Use', 'Age'], hue='Churn')\n",
        "plt.show()"
      ]
    },
    {
      "cell_type": "code",
      "execution_count": null,
      "metadata": {
        "id": "EpxSkIYve6WN"
      },
      "outputs": [],
      "source": [
        "sns.countplot(x='Age Group', hue='Churn', data=data)\n",
        "plt.title('Churn by Age Group')\n",
        "plt.show()"
      ]
    },
    {
      "cell_type": "code",
      "execution_count": null,
      "metadata": {
        "id": "WqD70ajUfBHY"
      },
      "outputs": [],
      "source": [
        "plt.figure(figsize=(5,4))\n",
        "corr = data.corr()\n",
        "sns.heatmap(corr[['Churn']].sort_values(by='Churn', ascending=False), annot=True, cmap='viridis')\n",
        "plt.title('Correlation with Churn')\n",
        "plt.show()"
      ]
    },
    {
      "cell_type": "code",
      "execution_count": null,
      "metadata": {
        "id": "77hr51IBfHlM"
      },
      "outputs": [],
      "source": [
        "sns.barplot(x='Complains', y='Churn', data=data)\n",
        "plt.title('Churn Rate by Number of Complains')\n",
        "plt.show()"
      ]
    },
    {
      "cell_type": "code",
      "execution_count": null,
      "metadata": {
        "id": "utpUegDPfTK2"
      },
      "outputs": [],
      "source": [
        "plt.figure(figsize=(8,5))\n",
        "sns.histplot(data=data, x='Customer Value', hue='Churn', kde=True, element=\"step\")\n",
        "plt.title('Distribution of Customer Value by Churn')\n",
        "plt.show()"
      ]
    },
    {
      "cell_type": "code",
      "execution_count": null,
      "metadata": {
        "id": "JrOBdPbjfu4j"
      },
      "outputs": [],
      "source": [
        "churn_counts = data['Churn'].value_counts()\n",
        "plt.figure(figsize=(5,4))\n",
        "plt.pie(churn_counts, labels=['Not Churned', 'Churned'], autopct='%1.1f%%', startangle=90, colors=['lightgreen', 'salmon'])\n",
        "plt.title('Customer Churn Distribution')\n",
        "plt.show()"
      ]
    },
    {
      "cell_type": "code",
      "execution_count": null,
      "metadata": {
        "id": "WRTlVP7PQBkN"
      },
      "outputs": [],
      "source": [
        "data.drop('Age Group', axis=1, inplace=True)\n",
        "data.drop('Age', axis=1, inplace=True)"
      ]
    },
    {
      "cell_type": "markdown",
      "metadata": {
        "id": "vQ9OXwOa2Jg9"
      },
      "source": [
        "# **logistic**"
      ]
    },
    {
      "cell_type": "code",
      "execution_count": null,
      "metadata": {
        "id": "9CixNMNm2RhM"
      },
      "outputs": [],
      "source": [
        "import pandas as pd\n",
        "import seaborn as sns\n",
        "import matplotlib.pyplot as plt\n",
        "from sklearn.linear_model import LogisticRegression"
      ]
    },
    {
      "cell_type": "code",
      "execution_count": null,
      "metadata": {
        "id": "0RyhMyHd2pck"
      },
      "outputs": [],
      "source": [
        "x = data.drop(['Churn'], axis=1)\n",
        "y = data['Churn']"
      ]
    },
    {
      "cell_type": "code",
      "execution_count": null,
      "metadata": {
        "id": "CGQcnRo_3Kdu"
      },
      "outputs": [],
      "source": [
        "x"
      ]
    },
    {
      "cell_type": "code",
      "execution_count": null,
      "metadata": {
        "id": "lcCh8EnJ5bR6"
      },
      "outputs": [],
      "source": [
        "y"
      ]
    },
    {
      "cell_type": "code",
      "execution_count": null,
      "metadata": {
        "id": "lYAWRY4b5b-_"
      },
      "outputs": [],
      "source": [
        "from sklearn.model_selection import train_test_split\n",
        "x_train, x_test, y_train, y_test = train_test_split(x, y, test_size=0.20, train_size=0.80, random_state = 42)"
      ]
    },
    {
      "cell_type": "code",
      "execution_count": null,
      "metadata": {
        "colab": {
          "base_uri": "https://localhost:8080/",
          "height": 211
        },
        "id": "A_yAAy845iqG",
        "outputId": "f976e303-6bda-4fda-9c16-0b965f417860"
      },
      "outputs": [
        {
          "output_type": "error",
          "ename": "NameError",
          "evalue": "name 'x_train' is not defined",
          "traceback": [
            "\u001b[0;31m---------------------------------------------------------------------------\u001b[0m",
            "\u001b[0;31mNameError\u001b[0m                                 Traceback (most recent call last)",
            "\u001b[0;32m/tmp/ipython-input-3047938269.py\u001b[0m in \u001b[0;36m<cell line: 0>\u001b[0;34m()\u001b[0m\n\u001b[1;32m      3\u001b[0m \u001b[0mlogreg\u001b[0m \u001b[0;34m=\u001b[0m \u001b[0mLogisticRegression\u001b[0m\u001b[0;34m(\u001b[0m\u001b[0mC\u001b[0m\u001b[0;34m=\u001b[0m\u001b[0;36m1e9\u001b[0m\u001b[0;34m)\u001b[0m\u001b[0;34m\u001b[0m\u001b[0;34m\u001b[0m\u001b[0m\n\u001b[1;32m      4\u001b[0m \u001b[0;34m\u001b[0m\u001b[0m\n\u001b[0;32m----> 5\u001b[0;31m \u001b[0mlogreg\u001b[0m\u001b[0;34m.\u001b[0m\u001b[0mfit\u001b[0m\u001b[0;34m(\u001b[0m\u001b[0mx_train\u001b[0m\u001b[0;34m,\u001b[0m \u001b[0my_train\u001b[0m\u001b[0;34m)\u001b[0m\u001b[0;34m\u001b[0m\u001b[0;34m\u001b[0m\u001b[0m\n\u001b[0m\u001b[1;32m      6\u001b[0m \u001b[0mpredictions\u001b[0m \u001b[0;34m=\u001b[0m \u001b[0mlogreg\u001b[0m\u001b[0;34m.\u001b[0m\u001b[0mpredict\u001b[0m\u001b[0;34m(\u001b[0m\u001b[0mx_test\u001b[0m\u001b[0;34m)\u001b[0m\u001b[0;34m\u001b[0m\u001b[0;34m\u001b[0m\u001b[0m\n\u001b[1;32m      7\u001b[0m \u001b[0mprint\u001b[0m\u001b[0;34m(\u001b[0m\u001b[0mpredictions\u001b[0m\u001b[0;34m)\u001b[0m\u001b[0;34m\u001b[0m\u001b[0;34m\u001b[0m\u001b[0m\n",
            "\u001b[0;31mNameError\u001b[0m: name 'x_train' is not defined"
          ]
        }
      ],
      "source": [
        "# fit a logistic regression model and store the class predictions\n",
        "from sklearn.linear_model import LogisticRegression\n",
        "logreg = LogisticRegression(C=1e9)\n",
        "\n",
        "logreg.fit(x_train, y_train)\n",
        "predictions = logreg.predict(x_test)\n",
        "print(predictions)"
      ]
    },
    {
      "cell_type": "markdown",
      "metadata": {
        "id": "6VxIZKgk5qbJ"
      },
      "source": [
        "confusion matrix"
      ]
    },
    {
      "cell_type": "code",
      "execution_count": null,
      "metadata": {
        "id": "nU976w-a5lK6"
      },
      "outputs": [],
      "source": [
        "from sklearn.metrics import confusion_matrix"
      ]
    },
    {
      "cell_type": "code",
      "execution_count": null,
      "metadata": {
        "id": "yiYunoe15tqF"
      },
      "outputs": [],
      "source": [
        "z=confusion_matrix(y_test, predictions)\n",
        "z"
      ]
    },
    {
      "cell_type": "markdown",
      "metadata": {
        "id": "wkdh3gvr52pF"
      },
      "source": [
        "accuracy"
      ]
    },
    {
      "cell_type": "code",
      "execution_count": null,
      "metadata": {
        "id": "mjvWQfrN5vxB"
      },
      "outputs": [],
      "source": [
        "from sklearn.metrics import accuracy_score\n",
        "accuracy_score(y_test,predictions)"
      ]
    },
    {
      "cell_type": "code",
      "execution_count": null,
      "metadata": {
        "id": "0eyOQcg655Lo"
      },
      "outputs": [],
      "source": [
        "from sklearn.metrics import classification_report\n",
        "print(classification_report(y_test,predictions))"
      ]
    },
    {
      "cell_type": "markdown",
      "metadata": {
        "id": "hZZUvUwR6DrN"
      },
      "source": [
        "# **KNN**"
      ]
    },
    {
      "cell_type": "code",
      "execution_count": null,
      "metadata": {
        "id": "MvRRMYzW57Rm"
      },
      "outputs": [],
      "source": [
        "from sklearn.neighbors import KNeighborsClassifier"
      ]
    },
    {
      "cell_type": "code",
      "execution_count": null,
      "metadata": {
        "id": "nlluRxdM6I1h"
      },
      "outputs": [],
      "source": [
        "model = KNeighborsClassifier(n_neighbors=25)"
      ]
    },
    {
      "cell_type": "code",
      "execution_count": null,
      "metadata": {
        "id": "OhyhqphH6L64"
      },
      "outputs": [],
      "source": [
        "model.fit(x_train, y_train)"
      ]
    },
    {
      "cell_type": "code",
      "execution_count": null,
      "metadata": {
        "id": "HSy2Jkfl6OSR"
      },
      "outputs": [],
      "source": [
        "y_pred = model.predict(x_test)\n",
        "y_pred"
      ]
    },
    {
      "cell_type": "code",
      "execution_count": null,
      "metadata": {
        "id": "vA9wxyQV6Q8h"
      },
      "outputs": [],
      "source": [
        "# Ensure consistent train-test split before creating the DataFrame\n",
        "x_train, x_test, y_train, y_test = train_test_split(x, y, test_size=0.3, random_state=46)\n",
        "\n",
        "# Assuming 'model' is already trained on the consistent x_train and y_train\n",
        "# If not, you need to retrain the model here:\n",
        "model.fit(x_train.values, y_train.values)\n",
        "\n",
        "y_pred = model.predict(x_test.values)\n",
        "knn = pd.DataFrame({'Predicted':y_pred,'Actual':y_test})\n",
        "knn"
      ]
    },
    {
      "cell_type": "markdown",
      "metadata": {
        "id": "uixTJrIb6Xkk"
      },
      "source": [
        "Evaluation Metric"
      ]
    },
    {
      "cell_type": "code",
      "execution_count": null,
      "metadata": {
        "id": "NUr5K6U46UJA"
      },
      "outputs": [],
      "source": [
        "from sklearn.metrics import accuracy_score\n",
        "accuracy_score(y_test,y_pred)"
      ]
    },
    {
      "cell_type": "code",
      "execution_count": null,
      "metadata": {
        "id": "1LujBcWI6a3t"
      },
      "outputs": [],
      "source": [
        "from sklearn.metrics import confusion_matrix\n",
        "cm = confusion_matrix(y_test,y_pred)\n",
        "cm"
      ]
    },
    {
      "cell_type": "code",
      "execution_count": null,
      "metadata": {
        "id": "_ELfd8lE6df7"
      },
      "outputs": [],
      "source": [
        "sns.heatmap(cm, annot=True, fmt=\"d\", cmap=\"Blues\", xticklabels=[\"hasn't subscribed to term deposite\", \"has subscribed to term deposite\"], yticklabels=[\"hasn't subscribed to term deposite\", \"has subscribed to term deposite\"])\n",
        "plt.title('Confusion Matrix')\n",
        "plt.xlabel(\"Predicted\")\n",
        "plt.ylabel(\"Truth\")\n",
        "plt.show()"
      ]
    },
    {
      "cell_type": "code",
      "execution_count": null,
      "metadata": {
        "id": "TSUYkDYI6j_o"
      },
      "outputs": [],
      "source": [
        "from sklearn.metrics import classification_report\n",
        "classification_rep = classification_report(y_test, y_pred)\n",
        "print(classification_rep)"
      ]
    },
    {
      "cell_type": "markdown",
      "metadata": {
        "id": "wy2yDW_S6psf"
      },
      "source": [
        "# SVM"
      ]
    },
    {
      "cell_type": "code",
      "execution_count": null,
      "metadata": {
        "id": "wpJVjlvY6nMS"
      },
      "outputs": [],
      "source": [
        "from sklearn.svm import SVC"
      ]
    },
    {
      "cell_type": "code",
      "execution_count": null,
      "metadata": {
        "id": "fGmwwRC36wIw"
      },
      "outputs": [],
      "source": [
        "model = SVC(kernel='linear')"
      ]
    },
    {
      "cell_type": "code",
      "execution_count": null,
      "metadata": {
        "id": "nZD8iMnc6zty"
      },
      "outputs": [],
      "source": [
        "model.fit(x_train, y_train)"
      ]
    },
    {
      "cell_type": "code",
      "execution_count": null,
      "metadata": {
        "id": "oPHZwtn262nX"
      },
      "outputs": [],
      "source": [
        "from sklearn.preprocessing import StandardScaler\n",
        "scaler = StandardScaler()\n",
        "x_train = scaler.fit_transform(x_train)\n",
        "x_test = scaler.transform(x_test)"
      ]
    },
    {
      "cell_type": "code",
      "execution_count": null,
      "metadata": {
        "id": "uVs3Dm-t65GG"
      },
      "outputs": [],
      "source": [
        "model.fit(x_train, y_train)"
      ]
    },
    {
      "cell_type": "code",
      "execution_count": null,
      "metadata": {
        "id": "ipSgmVMe67Ye"
      },
      "outputs": [],
      "source": [
        "y_pred = model.predict(x_test)"
      ]
    },
    {
      "cell_type": "code",
      "execution_count": null,
      "metadata": {
        "id": "RxZGLPPv6-J3"
      },
      "outputs": [],
      "source": [
        "y_pred"
      ]
    },
    {
      "cell_type": "code",
      "execution_count": null,
      "metadata": {
        "id": "Nu7V2EU37CxJ"
      },
      "outputs": [],
      "source": [
        "svm = pd.DataFrame({'Predicted':y_pred,'Actual':y_test})\n",
        "svm"
      ]
    },
    {
      "cell_type": "code",
      "execution_count": null,
      "metadata": {
        "id": "K8vf5BJm7FHq"
      },
      "outputs": [],
      "source": [
        "from sklearn.metrics import accuracy_score\n",
        "accuracy_score(y_test,y_pred)"
      ]
    },
    {
      "cell_type": "code",
      "execution_count": null,
      "metadata": {
        "id": "jxFE5rjb7HxU"
      },
      "outputs": [],
      "source": [
        "from sklearn.metrics import confusion_matrix\n",
        "cm = confusion_matrix(y_test,y_pred)\n",
        "cm"
      ]
    },
    {
      "cell_type": "code",
      "execution_count": null,
      "metadata": {
        "id": "_Ip_yWxI7J50"
      },
      "outputs": [],
      "source": [
        "sns.heatmap(cm, annot=True, fmt=\"d\", cmap=\"Blues\", xticklabels=[\"hasn't subscribed to term deposite\",\"has subscribed to term deposite\"], yticklabels=[\"hasn't subscribed to term deposite\",\"has subscribed to term deposite\"])\n",
        "plt.title('Confusion Matrix')\n",
        "plt.xlabel(\"Predicted\")\n",
        "plt.ylabel(\"Truth\")\n",
        "plt.show()"
      ]
    },
    {
      "cell_type": "markdown",
      "metadata": {
        "id": "FDtGEokU7O8O"
      },
      "source": [
        "# **DECISION TREE**"
      ]
    },
    {
      "cell_type": "code",
      "execution_count": null,
      "metadata": {
        "id": "g13Fy_t47MED"
      },
      "outputs": [],
      "source": [
        "from sklearn.tree import DecisionTreeClassifier, plot_tree\n",
        "# Create and train the Decision Tree model\n",
        "dt_model = DecisionTreeClassifier(random_state=46)\n",
        "dt_model.fit(x_train, y_train)"
      ]
    },
    {
      "cell_type": "code",
      "execution_count": null,
      "metadata": {
        "id": "VvipCDa-7Sa-"
      },
      "outputs": [],
      "source": [
        "y_pred_dt = dt_model.predict(x_test)"
      ]
    },
    {
      "cell_type": "code",
      "execution_count": null,
      "metadata": {
        "id": "Br4TIZqD7VSe"
      },
      "outputs": [],
      "source": [
        "from sklearn.metrics import accuracy_score\n",
        "accuracy_score(y_test,y_pred_dt)"
      ]
    },
    {
      "cell_type": "code",
      "execution_count": null,
      "metadata": {
        "id": "_dvUVdFc7XTO"
      },
      "outputs": [],
      "source": [
        "from sklearn.metrics import confusion_matrix\n",
        "# Ensure consistent train-test split before calculating confusion matrix\n",
        "x_train, x_test, y_train, y_test = train_test_split(x, y, test_size=0.3, random_state=46)\n",
        "dt_model = DecisionTreeClassifier(random_state=46)\n",
        "dt_model.fit(x_train, y_train)\n",
        "y_pred_dt = dt_model.predict(x_test)\n",
        "\n",
        "cm = confusion_matrix(y_test,y_pred_dt)\n",
        "cm"
      ]
    },
    {
      "cell_type": "code",
      "execution_count": null,
      "metadata": {
        "id": "0t0NjBnP7aoK"
      },
      "outputs": [],
      "source": [
        "import numpy as np\n",
        "import pandas as pd\n",
        "import seaborn as sns\n",
        "%matplotlib inline\n",
        "import matplotlib.pyplot as plt\n",
        "sns.heatmap(cm, annot=True, fmt=\"d\", cmap=\"Blues\", xticklabels=[\"hasn't subscribed to term deposite\",\"has subscribed to term deposite\"], yticklabels=[\"hasn't subscribed to term deposite\",\"has subscribed to term deposite\"])\n",
        "plt.title('Confusion Matrix')\n",
        "plt.xlabel(\"Predicted\")\n",
        "plt.ylabel(\"Truth\")\n",
        "plt.show()"
      ]
    },
    {
      "cell_type": "code",
      "execution_count": null,
      "metadata": {
        "id": "FcjDoKrQ7dMO"
      },
      "outputs": [],
      "source": [
        "from sklearn.metrics import classification_report\n",
        "classification_rep = classification_report(y_test, y_pred_dt)\n",
        "print(classification_rep)"
      ]
    },
    {
      "cell_type": "code",
      "execution_count": null,
      "metadata": {
        "id": "OzWUMX8Z7gOG"
      },
      "outputs": [],
      "source": [
        "from sklearn.tree import plot_tree\n",
        "# Create and train the Decision Tree model\n",
        "dt_model = DecisionTreeClassifier(random_state=46)\n",
        "dt_model.fit(x_train, y_train)\n",
        "\n",
        "plt.figure(figsize=(10, 10), dpi=132)\n",
        "plot_tree(dt_model, fontsize=8)\n",
        "plt.show()\n",
        "#plt.savefig('out.pdf')"
      ]
    },
    {
      "cell_type": "markdown",
      "metadata": {
        "id": "lEv8NaAV7qyN"
      },
      "source": [
        "# **Decision Tree Classifier Parameter**"
      ]
    },
    {
      "cell_type": "code",
      "execution_count": null,
      "metadata": {
        "id": "xiEvoaDf7iu1"
      },
      "outputs": [],
      "source": [
        "# Create Decision Tree Classifier object\n",
        "clf = DecisionTreeClassifier(criterion=\"gini\", max_depth=3) # 'gini', 'log_loss', 'entropy'\n",
        "\n",
        "# Train Decision Tree Classifier\n",
        "clf = clf.fit(x_train,y_train)\n",
        "\n",
        "#Predict the response for test dataset\n",
        "y_pred_dt = clf.predict(x_test)"
      ]
    },
    {
      "cell_type": "code",
      "execution_count": null,
      "metadata": {
        "id": "FvSIRVtc7ulh"
      },
      "outputs": [],
      "source": [
        "accuracy_score(y_test,y_pred_dt)"
      ]
    },
    {
      "cell_type": "code",
      "execution_count": null,
      "metadata": {
        "id": "tDsoAICr7xbE"
      },
      "outputs": [],
      "source": [
        "cm = confusion_matrix(y_test,y_pred_dt)\n",
        "cm"
      ]
    },
    {
      "cell_type": "code",
      "execution_count": null,
      "metadata": {
        "id": "d3lKdOMV72i6"
      },
      "outputs": [],
      "source": [
        "sns.heatmap(cm, annot=True, fmt=\"d\", cmap=\"Blues\", xticklabels=[\"hasn't subscribed to term deposite\",\"has subscribed to term deposite\"], yticklabels=[\"hasn't subscribed to term deposite\",\"has subscribed to term deposite\"])\n",
        "plt.title('Confusion Matrix')\n",
        "plt.xlabel(\"Predicted\")\n",
        "plt.ylabel(\"Truth\")\n",
        "plt.show()"
      ]
    },
    {
      "cell_type": "code",
      "execution_count": null,
      "metadata": {
        "id": "CtRdQJVJ75Dt"
      },
      "outputs": [],
      "source": [
        "classification_rep = classification_report(y_test, y_pred_dt)\n",
        "print(classification_rep)"
      ]
    },
    {
      "cell_type": "code",
      "execution_count": null,
      "metadata": {
        "id": "th40faSq787Y"
      },
      "outputs": [],
      "source": [
        "plt.figure(figsize=(10, 6), dpi=132)\n",
        "plot_tree(clf, fontsize=5)\n",
        "plt.show()"
      ]
    },
    {
      "cell_type": "markdown",
      "metadata": {
        "id": "L2ejNsKp3w0R"
      },
      "source": [
        "# **NAIVE BAYES**"
      ]
    },
    {
      "cell_type": "code",
      "execution_count": null,
      "metadata": {
        "id": "TcGYyICP3v3w"
      },
      "outputs": [],
      "source": [
        "import pandas as pd\n",
        "import matplotlib.pyplot as plt\n",
        "import seaborn as sns\n",
        "from sklearn.model_selection import train_test_split\n",
        "from sklearn.naive_bayes import GaussianNB\n",
        "from sklearn.metrics import accuracy_score\n"
      ]
    },
    {
      "cell_type": "code",
      "execution_count": null,
      "metadata": {
        "id": "jG2VwBr25iUe"
      },
      "outputs": [],
      "source": [
        "splits = [0.4, 0.3, 0.25, 0.2]   # 60-40, 70-30, 75-25, 80-20\n",
        "results = []\n"
      ]
    },
    {
      "cell_type": "code",
      "execution_count": null,
      "metadata": {
        "id": "4h17v3q55pxP"
      },
      "outputs": [],
      "source": [
        "# Re-define x and y before the loop\n",
        "data = pd.read_csv('/content/Customer Churn.csv')\n",
        "x = data.drop(['Churn'], axis=1)\n",
        "y = data['Churn']\n",
        "\n",
        "for test_size in splits:\n",
        "    x_train, x_test, y_train, y_test = train_test_split(\n",
        "        x, y, test_size=test_size, random_state=42, stratify=y\n",
        "    )\n",
        "    model = GaussianNB()\n",
        "    model.fit(x_train, y_train)\n",
        "    y_pred = model.predict(x_test)\n",
        "    acc = accuracy_score(y_test, y_pred)\n",
        "    results.append([f\"{int((1-test_size)*100)}-{int(test_size*100)}\", acc])"
      ]
    },
    {
      "cell_type": "code",
      "execution_count": null,
      "metadata": {
        "id": "O1kXdxqf6b6e"
      },
      "outputs": [],
      "source": [
        "results_df = pd.DataFrame(results, columns=[\"Train-Test Split\", \"Accuracy\"])\n",
        "print(results_df)\n",
        "\n",
        "# 6. Plot\n",
        "plt.figure(figsize=(6,4))\n",
        "sns.barplot(x=\"Train-Test Split\", y=\"Accuracy\", data=results_df, palette=\"Blues\")\n",
        "plt.title(\"Naive Bayes Accuracy Across Train-Test Splits\")\n",
        "plt.ylabel(\"Accuracy\")\n",
        "plt.xlabel(\"Train-Test Split\")\n",
        "plt.show()"
      ]
    },
    {
      "cell_type": "markdown",
      "metadata": {
        "id": "BE46dJb38Czd"
      },
      "source": [
        "# **RANDOM FOREST**"
      ]
    },
    {
      "cell_type": "code",
      "execution_count": null,
      "metadata": {
        "id": "0f26AgWX7_xZ"
      },
      "outputs": [],
      "source": [
        "from sklearn.ensemble import RandomForestClassifier"
      ]
    },
    {
      "cell_type": "code",
      "execution_count": null,
      "metadata": {
        "id": "XDjO4FvT8GOg"
      },
      "outputs": [],
      "source": [
        "model = RandomForestClassifier()"
      ]
    },
    {
      "cell_type": "code",
      "execution_count": null,
      "metadata": {
        "id": "SVGfLlS48Ii7"
      },
      "outputs": [],
      "source": [
        "model.fit(x_train, y_train)"
      ]
    },
    {
      "cell_type": "code",
      "execution_count": null,
      "metadata": {
        "id": "ZCZDjUTX8LGw"
      },
      "outputs": [],
      "source": [
        "y_pred = model.predict(x_test)"
      ]
    },
    {
      "cell_type": "code",
      "execution_count": null,
      "metadata": {
        "id": "YfjQBv4a8NOZ"
      },
      "outputs": [],
      "source": [
        "y_pred"
      ]
    },
    {
      "cell_type": "code",
      "execution_count": null,
      "metadata": {
        "id": "xeS-NnTb8Pox"
      },
      "outputs": [],
      "source": [
        "df = pd.DataFrame({'Predicted':y_pred,'Actual':y_test})\n",
        "df"
      ]
    },
    {
      "cell_type": "code",
      "execution_count": null,
      "metadata": {
        "id": "lTkQSDnv8R78"
      },
      "outputs": [],
      "source": [
        "from sklearn.metrics import accuracy_score\n",
        "accuracy_score(y_test,y_pred)"
      ]
    },
    {
      "cell_type": "code",
      "execution_count": null,
      "metadata": {
        "id": "zuXJ-pQp8Xlr"
      },
      "outputs": [],
      "source": [
        "from sklearn.metrics import confusion_matrix\n",
        "cm = confusion_matrix(y_test,y_pred)\n",
        "cm"
      ]
    },
    {
      "cell_type": "code",
      "execution_count": null,
      "metadata": {
        "id": "1kNkBV_x8Z2d"
      },
      "outputs": [],
      "source": [
        "sns.heatmap(cm, annot=True, fmt=\"d\", cmap=\"Blues\", xticklabels=[\"hasn't subscribed to term deposite\",\"has subscribed to term deposite\"], yticklabels=[\"hasn't subscribed to term deposite\",\"has subscribed to term deposite\"])\n",
        "plt.title('Confusion Matrix')\n",
        "plt.xlabel(\"Predicted\")\n",
        "plt.ylabel(\"Truth\")\n",
        "plt.show()"
      ]
    },
    {
      "cell_type": "code",
      "execution_count": null,
      "metadata": {
        "id": "cmKgSqsz8cH6"
      },
      "outputs": [],
      "source": [
        "from sklearn.metrics import classification_report\n",
        "classification_rep = classification_report(y_test, y_pred)\n",
        "print(classification_rep)"
      ]
    },
    {
      "cell_type": "markdown",
      "metadata": {
        "id": "M3VJzlAz8grF"
      },
      "source": [
        "# **random classifier parameter**"
      ]
    },
    {
      "cell_type": "code",
      "execution_count": null,
      "metadata": {
        "id": "AbZANreN8ep5"
      },
      "outputs": [],
      "source": [
        "# Create Random Forest Classifier object\n",
        "clf = RandomForestClassifier(n_estimators=200, criterion=\"gini\", max_depth=10, bootstrap=True) # 'gini', 'log_loss', 'entropy'\n",
        "\n",
        "# Train Random Forest Classifier\n",
        "clf = clf.fit(x_train,y_train)\n",
        "\n",
        "#Predict the response for test dataset\n",
        "y_pred = clf.predict(x_test)"
      ]
    },
    {
      "cell_type": "code",
      "execution_count": null,
      "metadata": {
        "id": "8oAd9iQ38kiV"
      },
      "outputs": [],
      "source": [
        "accuracy_score(y_test,y_pred)"
      ]
    },
    {
      "cell_type": "code",
      "execution_count": null,
      "metadata": {
        "id": "62plIOfQ8myT"
      },
      "outputs": [],
      "source": [
        "cm = confusion_matrix(y_test,y_pred)\n",
        "cm"
      ]
    },
    {
      "cell_type": "code",
      "execution_count": null,
      "metadata": {
        "id": "CBlZLcby8pCn"
      },
      "outputs": [],
      "source": [
        "sns.heatmap(cm, annot=True, fmt=\"d\", cmap=\"Blues\", xticklabels=[\"hasn't subscribed to term deposite\",\"has subscribed to term deposite\"], yticklabels=[\"hasn't subscribed to term deposite\",\"has subscribed to term deposite\"])\n",
        "plt.title('Confusion Matrix')\n",
        "plt.xlabel(\"Predicted\")\n",
        "plt.ylabel(\"Truth\")\n",
        "plt.show()"
      ]
    },
    {
      "cell_type": "code",
      "execution_count": null,
      "metadata": {
        "id": "hdOGdT0o8sFC"
      },
      "outputs": [],
      "source": [
        "classification_rep = classification_report(y_test, y_pred)\n",
        "print(classification_rep)"
      ]
    },
    {
      "cell_type": "markdown",
      "metadata": {
        "id": "QAY1L2Cv8x6D"
      },
      "source": [
        "# **BOOSTING**"
      ]
    },
    {
      "cell_type": "code",
      "execution_count": null,
      "metadata": {
        "id": "G5Kx09B58vA6"
      },
      "outputs": [],
      "source": [
        "from sklearn.ensemble import AdaBoostClassifier"
      ]
    },
    {
      "cell_type": "code",
      "execution_count": null,
      "metadata": {
        "id": "AY31KCij816O"
      },
      "outputs": [],
      "source": [
        "model = AdaBoostClassifier()"
      ]
    },
    {
      "cell_type": "code",
      "execution_count": null,
      "metadata": {
        "id": "HOuIT7nu83yF"
      },
      "outputs": [],
      "source": [
        "model.fit(x_train, y_train)"
      ]
    },
    {
      "cell_type": "code",
      "execution_count": null,
      "metadata": {
        "id": "RGqQ9Cvy853U"
      },
      "outputs": [],
      "source": [
        "y_pred = model.predict(x_test)"
      ]
    },
    {
      "cell_type": "code",
      "execution_count": null,
      "metadata": {
        "id": "gMVKYgMb89Mt"
      },
      "outputs": [],
      "source": [
        "y_pred"
      ]
    },
    {
      "cell_type": "code",
      "execution_count": null,
      "metadata": {
        "id": "wdfGncP78_gg"
      },
      "outputs": [],
      "source": [
        "dt = pd.DataFrame({'Predicted':y_pred,'Actual':y_test})\n",
        "dt"
      ]
    },
    {
      "cell_type": "code",
      "execution_count": null,
      "metadata": {
        "id": "FUqV5Fax9CWX"
      },
      "outputs": [],
      "source": [
        "from sklearn.metrics import accuracy_score\n",
        "accuracy_score(y_test,y_pred)"
      ]
    },
    {
      "cell_type": "code",
      "execution_count": null,
      "metadata": {
        "id": "kBg9KIJB9FCX"
      },
      "outputs": [],
      "source": [
        "from sklearn.metrics import confusion_matrix\n",
        "cm = confusion_matrix(y_test,y_pred)\n",
        "cm"
      ]
    },
    {
      "cell_type": "code",
      "execution_count": null,
      "metadata": {
        "id": "cphdyJ009Hja"
      },
      "outputs": [],
      "source": [
        "sns.heatmap(cm, annot=True, fmt=\"d\", cmap=\"Blues\", xticklabels=[\"hasn't subscribed to term deposite\",\"has subscribed to term deposite\"], yticklabels=[\"hasn't subscribed to term deposite\",\"has subscribed to term deposite\"])\n",
        "plt.title('Confusion Matrix')\n",
        "plt.xlabel(\"Predicted\")\n",
        "plt.ylabel(\"Truth\")\n",
        "plt.show()"
      ]
    },
    {
      "cell_type": "code",
      "execution_count": null,
      "metadata": {
        "id": "suIXmI3-9KF3"
      },
      "outputs": [],
      "source": [
        "from sklearn.metrics import classification_report\n",
        "classification_rep = classification_report(y_test, y_pred)\n",
        "print(classification_rep)"
      ]
    },
    {
      "cell_type": "markdown",
      "metadata": {
        "id": "CCUvaBZc9P4H"
      },
      "source": [
        "# **GARDIENT BOOSTING CLASSIFIER**"
      ]
    },
    {
      "cell_type": "code",
      "execution_count": null,
      "metadata": {
        "id": "5rvUgQrn9MpE"
      },
      "outputs": [],
      "source": [
        "from sklearn.ensemble import GradientBoostingClassifier"
      ]
    },
    {
      "cell_type": "code",
      "execution_count": null,
      "metadata": {
        "id": "4G0ONg689ULD"
      },
      "outputs": [],
      "source": [
        "model = GradientBoostingClassifier()"
      ]
    },
    {
      "cell_type": "code",
      "execution_count": null,
      "metadata": {
        "id": "rVkJsjNn9WEa"
      },
      "outputs": [],
      "source": [
        "model.fit(x_train, y_train)"
      ]
    },
    {
      "cell_type": "code",
      "execution_count": null,
      "metadata": {
        "id": "Q4buZP6y9YNu"
      },
      "outputs": [],
      "source": [
        "y_pred = model.predict(x_test)"
      ]
    },
    {
      "cell_type": "code",
      "execution_count": null,
      "metadata": {
        "id": "F3vUBrIz9bJA"
      },
      "outputs": [],
      "source": [
        "y_pred"
      ]
    },
    {
      "cell_type": "code",
      "execution_count": null,
      "metadata": {
        "id": "PjT7K38f9dFm"
      },
      "outputs": [],
      "source": [
        "df= pd.DataFrame({'Predicted':y_pred,'Actual':y_test})\n",
        "df"
      ]
    },
    {
      "cell_type": "code",
      "execution_count": null,
      "metadata": {
        "id": "d8hhFrkb9hHs"
      },
      "outputs": [],
      "source": [
        "from sklearn.metrics import accuracy_score\n",
        "accuracy_score(y_test,y_pred)"
      ]
    },
    {
      "cell_type": "code",
      "execution_count": null,
      "metadata": {
        "id": "QELnkNpF9juT"
      },
      "outputs": [],
      "source": [
        "from sklearn.metrics import confusion_matrix\n",
        "cm = confusion_matrix(y_test,y_pred)\n",
        "cm"
      ]
    },
    {
      "cell_type": "code",
      "execution_count": null,
      "metadata": {
        "id": "t5fMer1H9lpH"
      },
      "outputs": [],
      "source": [
        "sns.heatmap(cm, annot=True, fmt=\"d\", cmap=\"Blues\", xticklabels=[\"hasn't subscribed to term deposite\",\"has subscribed to term deposite\"], yticklabels=[\"hasn't subscribed to term deposite\",\"has subscribed to term deposite\"])\n",
        "plt.title('Confusion Matrix')\n",
        "plt.xlabel(\"Predicted\")\n",
        "plt.ylabel(\"Truth\")\n",
        "plt.show()"
      ]
    },
    {
      "cell_type": "code",
      "execution_count": null,
      "metadata": {
        "id": "3OvnmW_69n6X"
      },
      "outputs": [],
      "source": [
        "from sklearn.metrics import classification_report\n",
        "classification_rep = classification_report(y_test, y_pred)\n",
        "print(classification_rep)"
      ]
    },
    {
      "cell_type": "markdown",
      "metadata": {
        "id": "CnpZ2boP9ubX"
      },
      "source": [
        "# **Gardient boosting classifier parameter**"
      ]
    },
    {
      "cell_type": "code",
      "execution_count": null,
      "metadata": {
        "id": "rN_WPNbB9raq"
      },
      "outputs": [],
      "source": [
        "# Create Boosting Classifier object\n",
        "br = GradientBoostingClassifier(n_estimators=100, learning_rate=0.1, loss='exponential', criterion='squared_error') #'exponential', 'log_loss'\n",
        "\n",
        "# Train Boosting Classifier\n",
        "br = br.fit(x_train,y_train)\n",
        "\n",
        "#Predict the response for test dataset\n",
        "y_pred = br.predict(x_test)"
      ]
    },
    {
      "cell_type": "code",
      "execution_count": null,
      "metadata": {
        "id": "p81X2jAn9xaz"
      },
      "outputs": [],
      "source": [
        "accuracy_score(y_test,y_pred)"
      ]
    },
    {
      "cell_type": "markdown",
      "metadata": {
        "id": "fqBf5VbO92Iu"
      },
      "source": [
        "# **XG_BOOSTING**"
      ]
    },
    {
      "cell_type": "code",
      "execution_count": null,
      "metadata": {
        "id": "UVWgI0oG9zX4"
      },
      "outputs": [],
      "source": [
        "from xgboost import XGBClassifier"
      ]
    },
    {
      "cell_type": "code",
      "execution_count": null,
      "metadata": {
        "id": "B7TAVXhp962u"
      },
      "outputs": [],
      "source": [
        "model = XGBClassifier()"
      ]
    },
    {
      "cell_type": "code",
      "execution_count": null,
      "metadata": {
        "id": "1D-Ls5hv99KB"
      },
      "outputs": [],
      "source": [
        "model.fit(x_train, y_train)"
      ]
    },
    {
      "cell_type": "code",
      "execution_count": null,
      "metadata": {
        "id": "ssQLmQNn9_MV"
      },
      "outputs": [],
      "source": [
        "y_pred = model.predict(x_test)"
      ]
    },
    {
      "cell_type": "code",
      "execution_count": null,
      "metadata": {
        "id": "Y8vldC98-BqF"
      },
      "outputs": [],
      "source": [
        "y_pred"
      ]
    },
    {
      "cell_type": "code",
      "execution_count": null,
      "metadata": {
        "id": "4tI-ej1s-GnJ"
      },
      "outputs": [],
      "source": [
        "df = pd.DataFrame({'Predicted':y_pred,'Actual':y_test})\n",
        "df"
      ]
    },
    {
      "cell_type": "code",
      "execution_count": null,
      "metadata": {
        "id": "X_J5M4M--KPi"
      },
      "outputs": [],
      "source": [
        "from sklearn.metrics import accuracy_score\n",
        "accuracy_score(y_test,y_pred)"
      ]
    },
    {
      "cell_type": "code",
      "execution_count": null,
      "metadata": {
        "id": "0z7zxdef-QYZ"
      },
      "outputs": [],
      "source": [
        "from sklearn.metrics import confusion_matrix\n",
        "cm = confusion_matrix(y_test,y_pred)\n",
        "cm"
      ]
    },
    {
      "cell_type": "code",
      "execution_count": null,
      "metadata": {
        "id": "OMNJslvo-SaN"
      },
      "outputs": [],
      "source": [
        "sns.heatmap(cm, annot=True, fmt=\"d\", cmap=\"Blues\", xticklabels=[\"hasn't subscribed to term deposite\",\"has subscribed to term deposite\"], yticklabels=[\"hasn't subscribed to term deposite\",\"has subscribed to term deposite\"])\n",
        "plt.title('Confusion Matrix')\n",
        "plt.xlabel(\"Predicted\")\n",
        "plt.ylabel(\"Truth\")\n",
        "plt.show()"
      ]
    },
    {
      "cell_type": "code",
      "execution_count": null,
      "metadata": {
        "id": "a-oWhn5E-a46"
      },
      "outputs": [],
      "source": [
        "from sklearn.metrics import classification_report\n",
        "classification_rep = classification_report(y_test, y_pred)\n",
        "print(classification_rep)"
      ]
    },
    {
      "cell_type": "code",
      "source": [],
      "metadata": {
        "id": "q1FR0WOU8s4S"
      },
      "execution_count": null,
      "outputs": []
    },
    {
      "cell_type": "markdown",
      "metadata": {
        "id": "cwL_DEZM_fUH"
      },
      "source": [
        "# **XGBoosting Classifier Parameter**"
      ]
    },
    {
      "cell_type": "code",
      "execution_count": null,
      "metadata": {
        "id": "Y7IgztrJ-epr"
      },
      "outputs": [],
      "source": [
        "# Create Boosting Classifier object\n",
        "br = XGBClassifier(n_estimators=100, learning_rate=0.1, max_depth=6, n_jobs=-1)\n",
        "\n",
        "# Train Boosting Classifier\n",
        "br = br.fit(x_train,y_train)\n",
        "\n",
        "#Predict the response for test dataset\n",
        "y_pred = br.predict(x_test)"
      ]
    },
    {
      "cell_type": "code",
      "execution_count": null,
      "metadata": {
        "id": "-9J7NfgA_jpV"
      },
      "outputs": [],
      "source": [
        "accuracy_score(y_test,y_pred)"
      ]
    },
    {
      "cell_type": "markdown",
      "metadata": {
        "id": "vAL6wlUZ_tH-"
      },
      "source": [
        "# **BAGGING**"
      ]
    },
    {
      "cell_type": "code",
      "execution_count": null,
      "metadata": {
        "id": "DqRPUPl8_pGu"
      },
      "outputs": [],
      "source": [
        "from sklearn.ensemble import BaggingClassifier"
      ]
    },
    {
      "cell_type": "code",
      "execution_count": null,
      "metadata": {
        "id": "sgkk9zL3_wGq"
      },
      "outputs": [],
      "source": [
        "model = BaggingClassifier()"
      ]
    },
    {
      "cell_type": "code",
      "execution_count": null,
      "metadata": {
        "id": "jCc0uN3V_yra"
      },
      "outputs": [],
      "source": [
        "model.fit(x_train, y_train)"
      ]
    },
    {
      "cell_type": "code",
      "execution_count": null,
      "metadata": {
        "id": "sHpbgWWz_1-Z"
      },
      "outputs": [],
      "source": [
        "y_pred = model.predict(x_test)"
      ]
    },
    {
      "cell_type": "code",
      "execution_count": null,
      "metadata": {
        "id": "0F3qF8nt_4sj"
      },
      "outputs": [],
      "source": [
        "y_pred"
      ]
    },
    {
      "cell_type": "code",
      "execution_count": null,
      "metadata": {
        "id": "q7U1iE7n_7Mg"
      },
      "outputs": [],
      "source": [
        "dt = pd.DataFrame({'Predicted':y_pred,'Actual':y_test})\n",
        "dt"
      ]
    },
    {
      "cell_type": "code",
      "execution_count": null,
      "metadata": {
        "id": "Ka1TYuQAAEBj"
      },
      "outputs": [],
      "source": [
        "from sklearn.metrics import accuracy_score\n",
        "accuracy_score(y_test,y_pred)"
      ]
    },
    {
      "cell_type": "code",
      "execution_count": null,
      "metadata": {
        "id": "D2nxIQ7KAGB_"
      },
      "outputs": [],
      "source": [
        "from sklearn.metrics import confusion_matrix\n",
        "cm = confusion_matrix(y_test,y_pred)\n",
        "cm"
      ]
    },
    {
      "cell_type": "code",
      "execution_count": null,
      "metadata": {
        "id": "SQsDUnfUALhj"
      },
      "outputs": [],
      "source": [
        "sns.heatmap(cm, annot=True, fmt=\"d\", cmap=\"Blues\", xticklabels=[\"hasn't subscribed to term deposite\",\"has subscribed to term deposite\"], yticklabels=[\"hasn't subscribed to term deposite\",\"has subscribed to term deposite\"])\n",
        "plt.title('Confusion Matrix')\n",
        "plt.xlabel(\"Predicted\")\n",
        "plt.ylabel(\"Truth\")\n",
        "plt.show()"
      ]
    },
    {
      "cell_type": "code",
      "execution_count": null,
      "metadata": {
        "id": "T_3ZsmNHAOqv"
      },
      "outputs": [],
      "source": [
        "from sklearn.metrics import classification_report\n",
        "classification_rep = classification_report(y_test, y_pred)\n",
        "print(classification_rep)"
      ]
    },
    {
      "cell_type": "markdown",
      "metadata": {
        "id": "Wdr188pXAhjW"
      },
      "source": [
        "# **Bagging Classifier Parameter**"
      ]
    },
    {
      "cell_type": "code",
      "execution_count": null,
      "metadata": {
        "id": "f6LPS_hmARyU"
      },
      "outputs": [],
      "source": [
        "# Create Bagging Classifier object\n",
        "from sklearn.tree import DecisionTreeClassifier\n",
        "base_estimator = DecisionTreeClassifier(max_depth=3, random_state=32)\n",
        "br = BaggingClassifier(estimator=base_estimator, n_estimators=20, bootstrap=True)\n",
        "\n",
        "# Train Bagging Classifier\n",
        "br = br.fit(x_train,y_train)\n",
        "\n",
        "#Predict the response for test dataset\n",
        "y_pred = br.predict(x_test)"
      ]
    },
    {
      "cell_type": "code",
      "execution_count": null,
      "metadata": {
        "id": "nT4Q1gVIAkjI"
      },
      "outputs": [],
      "source": [
        "accuracy_score(y_test,y_pred)"
      ]
    },
    {
      "cell_type": "code",
      "execution_count": null,
      "metadata": {
        "id": "NKJzGLETAmjE"
      },
      "outputs": [],
      "source": [
        "cm = confusion_matrix(y_test,y_pred)\n",
        "cm"
      ]
    },
    {
      "cell_type": "code",
      "execution_count": null,
      "metadata": {
        "id": "6bdm1sAFAoR4"
      },
      "outputs": [],
      "source": [
        "sns.heatmap(cm, annot=True, fmt=\"d\", cmap=\"Blues\", xticklabels=[\"hasn't subscribed to term deposite\",\"has subscribed to term deposite\"], yticklabels=[\"hasn't subscribed to term deposite\",\"has subscribed to term deposite\"])\n",
        "plt.title('Confusion Matrix')\n",
        "plt.xlabel(\"Predicted\")\n",
        "plt.ylabel(\"Truth\")\n",
        "plt.show()"
      ]
    },
    {
      "cell_type": "code",
      "execution_count": null,
      "metadata": {
        "id": "6rQotCDVAqXB"
      },
      "outputs": [],
      "source": [
        "classification_rep = classification_report(y_test, y_pred)\n",
        "print(classification_rep)"
      ]
    },
    {
      "cell_type": "markdown",
      "metadata": {
        "id": "ASrf83poLhrO"
      },
      "source": [
        "# **VIF**"
      ]
    },
    {
      "cell_type": "code",
      "execution_count": null,
      "metadata": {
        "id": "YlNlduuvMNjP"
      },
      "outputs": [],
      "source": [
        "x=data.drop(['Churn'],axis=1)\n",
        "y=data['Churn']"
      ]
    },
    {
      "cell_type": "code",
      "execution_count": null,
      "metadata": {
        "id": "qxgUQmiZMAI2"
      },
      "outputs": [],
      "source": [
        "import pandas as pd\n",
        "import statsmodels.api as sm\n",
        "from statsmodels.stats.outliers_influence import variance_inflation_factor"
      ]
    },
    {
      "cell_type": "code",
      "execution_count": null,
      "metadata": {
        "id": "XkSTg9Q8MEyj"
      },
      "outputs": [],
      "source": [
        "vif_data = pd.DataFrame()\n",
        "vif_data[\"feature\"] = x.columns\n",
        "vif_data[\"VIF\"] = [variance_inflation_factor(x.values, i) for i in range(x.shape[1])]"
      ]
    },
    {
      "cell_type": "code",
      "source": [
        "vif_data"
      ],
      "metadata": {
        "id": "MjyCQpAFunrW"
      },
      "execution_count": null,
      "outputs": []
    },
    {
      "cell_type": "code",
      "execution_count": null,
      "metadata": {
        "id": "ibKafMEWR4NW"
      },
      "outputs": [],
      "source": [
        "x = data.drop(['Age','Age Group'], axis=1)"
      ]
    },
    {
      "cell_type": "code",
      "source": [
        "x"
      ],
      "metadata": {
        "id": "DDz-HwUvtsoG"
      },
      "execution_count": null,
      "outputs": []
    },
    {
      "cell_type": "code",
      "source": [
        "vif_data = pd.DataFrame()\n",
        "vif_data[\"feature\"] = x.columns\n",
        "vif_data[\"VIF\"] = [variance_inflation_factor(x.values, i) for i in range(x.shape[1])]"
      ],
      "metadata": {
        "id": "9kQ7TXEbvho2"
      },
      "execution_count": null,
      "outputs": []
    },
    {
      "cell_type": "code",
      "source": [
        "vif_data"
      ],
      "metadata": {
        "id": "oYvG74vNvmRQ"
      },
      "execution_count": null,
      "outputs": []
    },
    {
      "cell_type": "code",
      "source": [
        "# VIF Calculation for Churn Dataset\n",
        "import pandas as pd\n",
        "import statsmodels.api as sm\n",
        "from statsmodels.stats.outliers_influence import variance_inflation_factor\n",
        "\n",
        "# Load your dataset\n",
        "# Example: df = pd.read_csv(\"customer_churn.csv\")\n",
        "\n",
        "# Drop target column (Churn)\n",
        "X = data.drop(\"Churn\", axis=1)\n",
        "\n",
        "# Add constant for VIF calculation\n",
        "X_const = sm.add_constant(X)\n",
        "\n",
        "# Create a dataframe to store VIF values\n",
        "vif_data = pd.DataFrame()\n",
        "vif_data[\"Feature\"] = X_const.columns\n",
        "vif_data[\"VIF\"] = [variance_inflation_factor(X_const.values, i)\n",
        "                   for i in range(X_const.shape[1])]\n",
        "\n",
        "print(\"Variance Inflation Factor (VIF) Table:\")\n",
        "print(vif_data)"
      ],
      "metadata": {
        "id": "mmzhbwJM0EeV"
      },
      "execution_count": null,
      "outputs": []
    },
    {
      "cell_type": "code",
      "source": [
        "vif_data"
      ],
      "metadata": {
        "id": "bLvkLa-z0jZu"
      },
      "execution_count": null,
      "outputs": []
    },
    {
      "cell_type": "markdown",
      "source": [
        "# **ANN**"
      ],
      "metadata": {
        "id": "WGKr2NWOCFDt"
      }
    },
    {
      "cell_type": "code",
      "source": [
        "import tensorflow as tf"
      ],
      "metadata": {
        "id": "HdxXdk5HBAPV"
      },
      "execution_count": null,
      "outputs": []
    },
    {
      "cell_type": "code",
      "source": [
        "tf.random.set_seed(42)\n",
        "\n",
        "# STEP1: Creating the model\n",
        "\n",
        "model= tf.keras.Sequential([\n",
        "                            tf.keras.layers.Dense(10),\n",
        "                            tf.keras.layers.Dense(7),\n",
        "                            tf.keras.layers.Dense(5),\n",
        "                            tf.keras.layers.Dense(1)\n",
        "])\n",
        "\n",
        "# STEP2: Compiling the model   # optimizer can be SGD, Adam\n",
        "\n",
        "model.compile(loss= tf.keras.losses.binary_crossentropy,\n",
        "              optimizer= tf.keras.optimizers.Adam(learning_rate=0.001),\n",
        "              metrics= [tf.keras.metrics.BinaryAccuracy(name='accuracy'),\n",
        "                        tf.keras.metrics.Precision(name='precision'),\n",
        "                        tf.keras.metrics.Recall(name='recall')])\n",
        "\n",
        "# STEP3: Fit the model\n",
        "\n",
        "history= model.fit(x_train, y_train, epochs= 10, verbose=0)"
      ],
      "metadata": {
        "id": "_KjRQZ0LCD8M"
      },
      "execution_count": null,
      "outputs": []
    },
    {
      "cell_type": "code",
      "source": [
        "model.evaluate(x_test, y_test)"
      ],
      "metadata": {
        "id": "SVvgSdY9CfAy"
      },
      "execution_count": null,
      "outputs": []
    },
    {
      "cell_type": "code",
      "source": [
        "model.summary();"
      ],
      "metadata": {
        "id": "PVa2PenjCrh0"
      },
      "execution_count": null,
      "outputs": []
    },
    {
      "cell_type": "code",
      "source": [
        "pd.DataFrame(history.history).plot()\n",
        "plt.ylabel(\"loss\")\n",
        "plt.xlabel(\"epochs\")"
      ],
      "metadata": {
        "id": "rHB3Gn77Ct-0"
      },
      "execution_count": null,
      "outputs": []
    },
    {
      "cell_type": "code",
      "source": [
        "x_train, x_test, y_train, y_test= train_test_split(x, y, test_size=0.40, random_state=46)"
      ],
      "metadata": {
        "id": "0ZJmv31PDiRk"
      },
      "execution_count": null,
      "outputs": []
    },
    {
      "cell_type": "code",
      "source": [
        "tf.random.set_seed(42)\n",
        "\n",
        "# STEP1: Creating the model\n",
        "\n",
        "model= tf.keras.Sequential([\n",
        "                            tf.keras.layers.Dense(10, activation='relu'),\n",
        "                            tf.keras.layers.Dense(15, activation='tanh' ),\n",
        "                            tf.keras.layers.Dense(1, activation='sigmoid')\n",
        "])\n",
        "\n",
        "# STEP2: Compiling the model\n",
        "\n",
        "model.compile(loss= tf.keras.losses.binary_crossentropy,\n",
        "              optimizer= tf.keras.optimizers.Adam(learning_rate=0.001),\n",
        "              metrics= [tf.keras.metrics.BinaryAccuracy(name='accuracy'),\n",
        "                        tf.keras.metrics.Precision(name='precision'),\n",
        "                        tf.keras.metrics.Recall(name='recall')\n",
        "              ]\n",
        "              )\n",
        "\n",
        "# STEP1: Fit the model\n",
        "\n",
        "history= model.fit(x_train, y_train, epochs= 150)"
      ],
      "metadata": {
        "id": "OzN27y2MCtkM"
      },
      "execution_count": null,
      "outputs": []
    },
    {
      "cell_type": "code",
      "source": [
        "model.evaluate(x_test, y_test)"
      ],
      "metadata": {
        "id": "gXtWEm9UCtc0"
      },
      "execution_count": null,
      "outputs": []
    },
    {
      "cell_type": "code",
      "source": [
        "model.summary();"
      ],
      "metadata": {
        "id": "KawtbATQCtRs"
      },
      "execution_count": null,
      "outputs": []
    },
    {
      "cell_type": "code",
      "source": [
        "pd.DataFrame(history.history).plot()\n",
        "plt.ylabel(\"loss\")\n",
        "plt.xlabel(\"epochs\")"
      ],
      "metadata": {
        "id": "SJqtOgKvDQUM"
      },
      "execution_count": null,
      "outputs": []
    },
    {
      "cell_type": "code",
      "source": [
        "tf.random.set_seed(42)\n",
        "\n",
        "# STEP1: Creating the model\n",
        "\n",
        "model= tf.keras.Sequential([\n",
        "                            tf.keras.layers.Dense(15, activation='relu'),\n",
        "                            tf.keras.layers.Dense(10, activation='tanh'),\n",
        "                            tf.keras.layers.Dense(1, activation='sigmoid')\n",
        "])\n",
        "\n",
        "# STEP2: Compiling the model\n",
        "\n",
        "model.compile(loss= tf.keras.losses.binary_crossentropy,\n",
        "              optimizer= tf.keras.optimizers.Adam(learning_rate=0.001),\n",
        "              metrics= [tf.keras.metrics.BinaryAccuracy(name='accuracy'),\n",
        "                        tf.keras.metrics.Precision(name='precision'),\n",
        "                        tf.keras.metrics.Recall(name='recall')\n",
        "              ]\n",
        "              )\n",
        "\n",
        "# STEP1: Fit the model\n",
        "\n",
        "history= model.fit(x_train, y_train, epochs= 100)"
      ],
      "metadata": {
        "id": "7-pq2-79ELJJ"
      },
      "execution_count": null,
      "outputs": []
    },
    {
      "cell_type": "code",
      "source": [
        "model.evaluate(x_test, y_test)"
      ],
      "metadata": {
        "id": "4bo_tRaLEkhm"
      },
      "execution_count": null,
      "outputs": []
    },
    {
      "cell_type": "code",
      "source": [
        "model.summary();"
      ],
      "metadata": {
        "id": "3v9IzJg5Ekek"
      },
      "execution_count": null,
      "outputs": []
    },
    {
      "cell_type": "code",
      "source": [
        "pd.DataFrame(history.history).plot()\n",
        "plt.ylabel(\"loss\")\n",
        "plt.xlabel(\"epochs\")"
      ],
      "metadata": {
        "id": "NN25erwfEkZu"
      },
      "execution_count": null,
      "outputs": []
    },
    {
      "cell_type": "code",
      "source": [
        "tf.random.set_seed(42)\n",
        "\n",
        "# STEP1: Creating the model\n",
        "\n",
        "model= tf.keras.Sequential([\n",
        "                            tf.keras.layers.Dense(30, activation='relu'),\n",
        "                            tf.keras.layers.Dense(20, activation='tanh'),\n",
        "                            tf.keras.layers.Dense(15, activation='softmax'),\n",
        "                            tf.keras.layers.Dense(10, activation='tanh'),\n",
        "                            tf.keras.layers.Dense(5, activation='relu'),\n",
        "                            tf.keras.layers.Dense(1, activation='sigmoid')\n",
        "])\n",
        "\n",
        "# STEP2: Compiling the model\n",
        "\n",
        "model.compile(loss= tf.keras.losses.binary_crossentropy,\n",
        "              optimizer= tf.keras.optimizers.Adam(learning_rate=0.001),\n",
        "              metrics= [tf.keras.metrics.BinaryAccuracy(name='accuracy'),\n",
        "                        tf.keras.metrics.Precision(name='precision'),\n",
        "                        tf.keras.metrics.Recall(name='recall')\n",
        "              ]\n",
        "              )\n",
        "\n",
        "# STEP1: Fit the model\n",
        "\n",
        "history= model.fit(x_train, y_train, epochs= 100)"
      ],
      "metadata": {
        "id": "sWL03r-hEkVc"
      },
      "execution_count": null,
      "outputs": []
    },
    {
      "cell_type": "code",
      "source": [
        "model.evaluate(x_test, y_test)"
      ],
      "metadata": {
        "id": "kUV755foEkS-"
      },
      "execution_count": null,
      "outputs": []
    },
    {
      "cell_type": "code",
      "source": [
        "model.summary();"
      ],
      "metadata": {
        "id": "yUxgpQobEkQ0"
      },
      "execution_count": null,
      "outputs": []
    },
    {
      "cell_type": "code",
      "source": [
        "pd.DataFrame(history.history).plot()\n",
        "plt.ylabel(\"loss\")\n",
        "plt.xlabel(\"epochs\")"
      ],
      "metadata": {
        "id": "2HJs3HnyEkOk"
      },
      "execution_count": null,
      "outputs": []
    },
    {
      "cell_type": "code",
      "source": [
        "tf.random.set_seed(42)\n",
        "\n",
        "# STEP1: Creating the model\n",
        "\n",
        "model= tf.keras.Sequential([\n",
        "                            tf.keras.layers.Dense(30, activation='relu'),\n",
        "                            tf.keras.layers.Dense(20, activation='tanh'),\n",
        "                            tf.keras.layers.Dense(15, activation='softmax'),\n",
        "                            tf.keras.layers.Dense(5, activation='relu'),\n",
        "                            tf.keras.layers.Dense(1, activation='sigmoid')\n",
        "])\n",
        "\n",
        "# STEP2: Compiling the model\n",
        "\n",
        "model.compile(loss= tf.keras.losses.binary_crossentropy,\n",
        "              optimizer= tf.keras.optimizers.SGD(learning_rate=0.001,momentum=0.9),\n",
        "              metrics= [tf.keras.metrics.BinaryAccuracy(name='accuracy'),\n",
        "                        tf.keras.metrics.Precision(name='precision'),\n",
        "                        tf.keras.metrics.Recall(name='recall')\n",
        "              ]\n",
        "              )\n",
        "\n",
        "# STEP1: Fit the model\n",
        "\n",
        "history= model.fit(x_train, y_train, epochs= 100)"
      ],
      "metadata": {
        "id": "_l6AaxHGEkME"
      },
      "execution_count": null,
      "outputs": []
    },
    {
      "cell_type": "code",
      "source": [
        "\n",
        "model.evaluate(x_test, y_test)"
      ],
      "metadata": {
        "id": "XblTcwZZEkJW"
      },
      "execution_count": null,
      "outputs": []
    },
    {
      "cell_type": "code",
      "source": [
        "model.summary();"
      ],
      "metadata": {
        "id": "qZR0_iBcEkGd"
      },
      "execution_count": null,
      "outputs": []
    },
    {
      "cell_type": "code",
      "source": [
        "pd.DataFrame(history.history).plot()\n",
        "plt.ylabel(\"loss\")\n",
        "plt.xlabel(\"epochs\")"
      ],
      "metadata": {
        "id": "qyTVZxnCEkC8"
      },
      "execution_count": null,
      "outputs": []
    },
    {
      "cell_type": "code",
      "source": [
        "tf.random.set_seed(42)\n",
        "\n",
        "# STEP1: Creating the model\n",
        "\n",
        "model= tf.keras.Sequential([\n",
        "                            tf.keras.layers.Dense(30, activation='relu'),\n",
        "                            tf.keras.layers.Dense(20, activation='tanh'),\n",
        "                            tf.keras.layers.Dense(15, activation='softmax'),\n",
        "                            tf.keras.layers.Dense(1, activation='sigmoid')\n",
        "])\n",
        "\n",
        "# STEP2: Compiling the model\n",
        "\n",
        "model.compile(loss= tf.keras.losses.binary_crossentropy,\n",
        "              optimizer= tf.keras.optimizers.SGD(learning_rate=0.01,momentum=0.9),\n",
        "              metrics= [tf.keras.metrics.BinaryAccuracy(name='accuracy'),\n",
        "                        tf.keras.metrics.Precision(name='precision'),\n",
        "                        tf.keras.metrics.Recall(name='recall')\n",
        "              ]\n",
        "              )\n",
        "\n",
        "# STEP1: Fit the model\n",
        "\n",
        "history= model.fit(x_train, y_train, epochs= 50)"
      ],
      "metadata": {
        "id": "MlhRgbAtFgSF"
      },
      "execution_count": null,
      "outputs": []
    },
    {
      "cell_type": "code",
      "source": [
        "model.evaluate(x_test, y_test)"
      ],
      "metadata": {
        "id": "5eudrrQjFgLM"
      },
      "execution_count": null,
      "outputs": []
    },
    {
      "cell_type": "code",
      "source": [
        "model.summary();"
      ],
      "metadata": {
        "id": "X-V1B9ozFgIs"
      },
      "execution_count": null,
      "outputs": []
    },
    {
      "cell_type": "code",
      "source": [
        "pd.DataFrame(history.history).plot()\n",
        "plt.ylabel(\"loss\")\n",
        "plt.xlabel(\"epochs\")"
      ],
      "metadata": {
        "id": "ai6i-hmdFgGY"
      },
      "execution_count": null,
      "outputs": []
    },
    {
      "cell_type": "code",
      "source": [
        "tf.random.set_seed(42)\n",
        "\n",
        "# STEP1: Creating the model\n",
        "\n",
        "model= tf.keras.Sequential([\n",
        "                            tf.keras.layers.Dense(30, activation='relu'),\n",
        "                            tf.keras.layers.Dense(20, activation='tanh'),\n",
        "                            tf.keras.layers.Dense(15, activation='softmax'),\n",
        "                            tf.keras.layers.Dense(1, activation='sigmoid')\n",
        "])\n",
        "\n",
        "# STEP2: Compiling the model\n",
        "\n",
        "model.compile(loss= tf.keras.losses.binary_crossentropy,\n",
        "              optimizer= tf.keras.optimizers.Adamax(learning_rate=0.0005),\n",
        "              metrics= [tf.keras.metrics.BinaryAccuracy(name='accuracy'),\n",
        "                        tf.keras.metrics.Precision(name='precision'),\n",
        "                        tf.keras.metrics.Recall(name='recall')\n",
        "              ]\n",
        "              )\n",
        "\n",
        "# STEP1: Fit the model\n",
        "\n",
        "history= model.fit(x_train, y_train, epochs= 250)"
      ],
      "metadata": {
        "id": "kh9fP8qKFgEN"
      },
      "execution_count": null,
      "outputs": []
    },
    {
      "cell_type": "code",
      "source": [
        "model.evaluate(x_test, y_test)"
      ],
      "metadata": {
        "id": "dOPZ8QYGFgB8"
      },
      "execution_count": null,
      "outputs": []
    },
    {
      "cell_type": "code",
      "source": [
        "model.summary();"
      ],
      "metadata": {
        "id": "CJnaVx5OFf_c"
      },
      "execution_count": null,
      "outputs": []
    },
    {
      "cell_type": "code",
      "source": [
        "pd.DataFrame(history.history).plot()\n",
        "plt.ylabel(\"loss\")\n",
        "plt.xlabel(\"epochs\")"
      ],
      "metadata": {
        "id": "fE8MDI6WFf9e"
      },
      "execution_count": null,
      "outputs": []
    },
    {
      "cell_type": "code",
      "source": [
        "from sklearn.linear_model import LogisticRegression\n",
        "from sklearn.neighbors import KNeighborsClassifier\n",
        "from sklearn.svm import SVC\n",
        "from sklearn.tree import DecisionTreeClassifier\n",
        "from sklearn.ensemble import RandomForestClassifier, AdaBoostClassifier, GradientBoostingClassifier, BaggingClassifier\n",
        "from xgboost import XGBClassifier\n",
        "from sklearn.preprocessing import StandardScaler\n",
        "\n",
        "# Define the models to evaluate\n",
        "models = {\n",
        "    \"Logistic Regression\": LogisticRegression(C=1e9),\n",
        "    \"KNN\": KNeighborsClassifier(n_neighbors=25),\n",
        "    \"SVM\": SVC(kernel='linear'),\n",
        "    \"Decision Tree\": DecisionTreeClassifier(random_state=46),\n",
        "    \"Random Forest\": RandomForestClassifier(),\n",
        "    \"AdaBoost\": AdaBoostClassifier(),\n",
        "    \"Gradient Boosting\": GradientBoostingClassifier(),\n",
        "    \"XGBoost\": XGBClassifier(),\n",
        "    \"Bagging\": BaggingClassifier(estimator=DecisionTreeClassifier(max_depth=3, random_state=32), n_estimators=20, bootstrap=True)\n",
        "}\n",
        "\n",
        "for ratio in [0.2, 0.25, 0.3, 0.4]:   # 80-20, 75-25, 70-30, 60-40\n",
        "    print(f\"\\n============================\")\n",
        "    print(f\"Train-Test Split: {int((1-ratio)*100)}-{int(ratio*100)}\")\n",
        "    print(\"============================\")\n",
        "\n",
        "    x_train, x_test, y_train, y_test = train_test_split(\n",
        "        X, y, test_size=ratio, random_state=42, stratify=y\n",
        "    )\n",
        "\n",
        "    # Scale the data for models that require it\n",
        "    scaler = StandardScaler()\n",
        "    x_train_scaled = scaler.fit_transform(x_train)\n",
        "    x_test_scaled = scaler.transform(x_test)\n",
        "\n",
        "    for name, model in models.items():\n",
        "        # Apply scaling only to models that benefit from it\n",
        "        if name in [\"Logistic Regression\", \"KNN\", \"SVM\", \"ANN\"]:\n",
        "          model.fit(x_train_scaled, y_train)\n",
        "          y_pred = model.predict(x_test_scaled)\n",
        "        else:\n",
        "          model.fit(x_train, y_train)\n",
        "          y_pred = model.predict(x_test)\n",
        "\n",
        "        acc = accuracy_score(y_test, y_pred)\n",
        "        print(f\"{name} Accuracy: {acc:.4f}\")"
      ],
      "metadata": {
        "id": "dsCVjrvQYzff"
      },
      "execution_count": null,
      "outputs": []
    }
  ],
  "metadata": {
    "colab": {
      "gpuType": "T4",
      "provenance": [],
      "include_colab_link": true
    },
    "kernelspec": {
      "display_name": "Python 3",
      "name": "python3"
    },
    "language_info": {
      "name": "python"
    }
  },
  "nbformat": 4,
  "nbformat_minor": 0
}